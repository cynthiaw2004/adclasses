{
 "cells": [
  {
   "cell_type": "code",
   "execution_count": 1,
   "metadata": {},
   "outputs": [],
   "source": [
    "dataset_name = \"grok_asg_anomaly\"\n",
    "path = \"data/\" + dataset_name + \".csv\"\n",
    "gaussian_window_size = 1024"
   ]
  },
  {
   "cell_type": "code",
   "execution_count": 2,
   "metadata": {},
   "outputs": [
    {
     "name": "stderr",
     "output_type": "stream",
     "text": [
      "Using TensorFlow backend.\n"
     ]
    }
   ],
   "source": [
    "import adclasses\n",
    "import pandas as pd\n",
    "import math\n",
    "import numpy as np\n",
    "import matplotlib.pyplot as plt\n",
    "import joblib\n",
    "import warnings\n",
    "warnings.filterwarnings('ignore')"
   ]
  },
  {
   "cell_type": "markdown",
   "metadata": {},
   "source": [
    "# Preprocess dataset"
   ]
  },
  {
   "cell_type": "code",
   "execution_count": 3,
   "metadata": {},
   "outputs": [
    {
     "name": "stdout",
     "output_type": "stream",
     "text": [
      "Start date:  2014-01-16 00:00:00\n",
      "End date:  2014-02-01 01:00:00\n",
      "Missing time stamps: \n",
      " DatetimeIndex([], dtype='datetime64[ns]', freq='5T')\n",
      "Length:  4621\n",
      "Time step size:  5min\n",
      "Start Date:  2014-01-16 00:00:00\n",
      "End Date:  2014-02-01 01:00:00\n",
      "Date Format:  %Y-%m-%d %H:%M:%S\n",
      "True outlier indices:  [1254, 1569, 3753]\n"
     ]
    }
   ],
   "source": [
    "data = pd.read_csv(path, header=0)\n",
    "start_date = data[\"timestamp\"].values[0]\n",
    "end_date = data[\"timestamp\"].values[-1]\n",
    "print(\"Start date: \", start_date)\n",
    "print(\"End date: \", end_date)\n",
    "data[\"timestamp\"] = pd.to_datetime(data[\"timestamp\"], format=\"%Y-%m-%d %H:%M:%S\")\n",
    "\n",
    "print(\"Missing time stamps: \\n\", adclasses.find_missing_time_steps(start_date, end_date, '5min', data))\n",
    "\n",
    "# write to csv for htm\n",
    "# data.to_csv(\"/home/cfreeman/Desktop/prefill/\" + dataset_name + \".csv\", index=False)\n",
    "\n",
    "ad = adclasses.UnivariateAnomalyDetection(dataframe=data, timestep=\"5min\", dateformat=\"%Y-%m-%d %H:%M:%S\", name=dataset_name)\n",
    "print(\"Length: \", ad.get_length())\n",
    "print(\"Time step size: \", ad.get_timestep())\n",
    "print(\"Start Date: \", start_date)\n",
    "print(\"End Date: \", end_date)\n",
    "print(\"Date Format: \", ad.get_dateformat())\n",
    "true_outlier_dates = [\"2014-01-20 08:30:00\",\n",
    "                      \"2014-01-21 10:45:00\",\n",
    "                      \"2014-01-29 00:45:00\"]\n",
    "true_outlier_indices = ad.convert_true_outlier_date(true_outlier_dates)\n",
    "print(\"True outlier indices: \", true_outlier_indices)"
   ]
  },
  {
   "cell_type": "markdown",
   "metadata": {},
   "source": [
    "# GLM"
   ]
  },
  {
   "cell_type": "code",
   "execution_count": 4,
   "metadata": {},
   "outputs": [
    {
     "name": "stderr",
     "output_type": "stream",
     "text": [
      " 54%|█████▎    | 2475/4621 [00:00<00:00, 24741.53it/s]"
     ]
    },
    {
     "name": "stdout",
     "output_type": "stream",
     "text": [
      "Initial Mean 33.49088616161617\n",
      "Initial StdDev 1.0823756244661207\n"
     ]
    },
    {
     "name": "stderr",
     "output_type": "stream",
     "text": [
      "100%|██████████| 4621/4621 [00:00<00:00, 20687.44it/s]\n",
      " 27%|██▋       | 1239/4621 [00:00<00:00, 12382.37it/s]"
     ]
    },
    {
     "name": "stdout",
     "output_type": "stream",
     "text": [
      "eta:  0.5\n",
      "lambda:  0.99\n",
      "MSE:  2.151731474779774e+101\n",
      "Initial Mean 33.49088616161617\n",
      "Initial StdDev 1.0823756244661207\n"
     ]
    },
    {
     "name": "stderr",
     "output_type": "stream",
     "text": [
      "100%|██████████| 4621/4621 [00:00<00:00, 13756.64it/s]\n",
      " 30%|███       | 1397/4621 [00:00<00:00, 13965.49it/s]"
     ]
    },
    {
     "name": "stdout",
     "output_type": "stream",
     "text": [
      "eta:  0.5\n",
      "lambda:  0.999\n",
      "MSE:  73.44133952763522\n",
      "Initial Mean 33.49088616161617\n",
      "Initial StdDev 1.0823756244661207\n"
     ]
    },
    {
     "name": "stderr",
     "output_type": "stream",
     "text": [
      "100%|██████████| 4621/4621 [00:00<00:00, 13864.73it/s]\n",
      " 29%|██▉       | 1341/4621 [00:00<00:00, 13399.28it/s]"
     ]
    },
    {
     "name": "stdout",
     "output_type": "stream",
     "text": [
      "eta:  0.5\n",
      "lambda:  0.9999\n",
      "MSE:  156.90808835041247\n",
      "Initial Mean 33.49088616161617\n",
      "Initial StdDev 1.0823756244661207\n"
     ]
    },
    {
     "name": "stderr",
     "output_type": "stream",
     "text": [
      "100%|██████████| 4621/4621 [00:00<00:00, 13401.19it/s]\n",
      " 29%|██▉       | 1355/4621 [00:00<00:00, 13543.78it/s]"
     ]
    },
    {
     "name": "stdout",
     "output_type": "stream",
     "text": [
      "eta:  1\n",
      "lambda:  0.99\n",
      "MSE:  5.941791510779986e+19\n",
      "Initial Mean 33.49088616161617\n",
      "Initial StdDev 1.0823756244661207\n"
     ]
    },
    {
     "name": "stderr",
     "output_type": "stream",
     "text": [
      "100%|██████████| 4621/4621 [00:00<00:00, 13407.48it/s]\n",
      " 30%|██▉       | 1375/4621 [00:00<00:00, 13747.29it/s]"
     ]
    },
    {
     "name": "stdout",
     "output_type": "stream",
     "text": [
      "eta:  1\n",
      "lambda:  0.999\n",
      "MSE:  36.445924950590395\n",
      "Initial Mean 33.49088616161617\n",
      "Initial StdDev 1.0823756244661207\n"
     ]
    },
    {
     "name": "stderr",
     "output_type": "stream",
     "text": [
      "100%|██████████| 4621/4621 [00:00<00:00, 12014.66it/s]\n"
     ]
    },
    {
     "name": "stdout",
     "output_type": "stream",
     "text": [
      "eta:  1\n",
      "lambda:  0.9999\n",
      "MSE:  121.46717486573199\n",
      "\n",
      "best params:  eta 1 lambda 0.999\n"
     ]
    }
   ],
   "source": [
    "# optimize\n",
    "etas = [.5,1]\n",
    "lambdas = [.99, .999, .9999]\n",
    "\n",
    "opt_dict = {}\n",
    "\n",
    "for eta in etas:\n",
    "    for lambda_ in lambdas:\n",
    "       \n",
    "        mse = ad.glm(gaussian_window_size=gaussian_window_size, \n",
    "                     family='gaussian', \n",
    "                     eta=eta, \n",
    "                     lambda_=lambda_)[\"MSE\"]\n",
    "\n",
    "        print(\"eta: \", eta)\n",
    "        print(\"lambda: \", lambda_)\n",
    "        print(\"MSE: \",mse)\n",
    "\n",
    "        key_str = \"eta \" + str(eta) + \" lambda \" + str(lambda_)\n",
    "\n",
    "        opt_dict[key_str] = mse\n",
    "\n",
    "best_params = min(opt_dict, key=opt_dict.get)\n",
    "print(\"\\nbest params: \", best_params)"
   ]
  },
  {
   "cell_type": "code",
   "execution_count": 5,
   "metadata": {},
   "outputs": [
    {
     "name": "stderr",
     "output_type": "stream",
     "text": [
      " 35%|███▍      | 1600/4621 [00:00<00:00, 15995.90it/s]"
     ]
    },
    {
     "name": "stdout",
     "output_type": "stream",
     "text": [
      "Initial Mean 33.49088616161617\n",
      "Initial StdDev 1.0823756244661207\n"
     ]
    },
    {
     "name": "stderr",
     "output_type": "stream",
     "text": [
      "100%|██████████| 4621/4621 [00:00<00:00, 15468.56it/s]\n"
     ]
    },
    {
     "data": {
      "image/png": "[encoded data removed]",
      "text/plain": [
       "<Figure size 432x288 with 1 Axes>"
      ]
     },
     "metadata": {},
     "output_type": "display_data"
    },
    {
     "name": "stdout",
     "output_type": "stream",
     "text": [
      "Time:  1.3535380363464355\n"
     ]
    },
    {
     "data": {
      "text/plain": [
       "['anomaly_scores/GLM/grok_asg_anomaly']"
      ]
     },
     "execution_count": 5,
     "metadata": {},
     "output_type": "execute_result"
    },
    {
     "data": {
      "image/png": "[encoded data removed]",
      "text/plain": [
       "<Figure size 432x288 with 1 Axes>"
      ]
     },
     "metadata": {},
     "output_type": "display_data"
    }
   ],
   "source": [
    "save_path = \"anomaly_scores/GLM/\" + dataset_name\n",
    "output_dict = ad.glm(gaussian_window_size=gaussian_window_size, family='gaussian', \n",
    "                     eta=1, lambda_=0.999,plot_anomaly_scores=True, plot_forecast=True)\n",
    "print(\"Time: \", output_dict[\"Time\"])\n",
    "joblib.dump(output_dict, save_path)"
   ]
  },
  {
   "cell_type": "markdown",
   "metadata": {},
   "source": [
    "# SARIMA: using autoarima"
   ]
  },
  {
   "cell_type": "code",
   "execution_count": 6,
   "metadata": {},
   "outputs": [
    {
     "name": "stdout",
     "output_type": "stream",
     "text": [
      "\n",
      " Fitting models using approximations to speed things up...\n",
      "\n",
      " ARIMA(2,0,2) with non-zero mean : 2056.091\n",
      " ARIMA(0,0,0) with non-zero mean : 2085.958\n",
      " ARIMA(1,0,0) with non-zero mean : 2055.935\n",
      " ARIMA(0,0,1) with non-zero mean : 2052.369\n",
      " ARIMA(0,0,0) with zero mean     : 2084.389\n",
      " ARIMA(1,0,1) with non-zero mean : 2055.573\n",
      " ARIMA(0,0,2) with non-zero mean : 2054.581\n",
      " ARIMA(1,0,2) with non-zero mean : 2055.778\n",
      " ARIMA(0,0,1) with zero mean     : 2050.811\n",
      " ARIMA(1,0,1) with zero mean     : 2054.012\n",
      " ARIMA(0,0,2) with zero mean     : 2053.016\n",
      " ARIMA(1,0,0) with zero mean     : 2054.4\n",
      " ARIMA(1,0,2) with zero mean     : 2054.149\n",
      "\n",
      " Now re-fitting the best model(s) without approximations...\n",
      "\n",
      " ARIMA(0,0,1) with zero mean     : 2050.866\n",
      "\n",
      " Best model: Regression with ARIMA(0,0,1) errors \n",
      "\n"
     ]
    },
    {
     "data": {
      "image/png": "[encoded data removed]",
      "text/plain": [
       "<Figure size 432x288 with 1 Axes>"
      ]
     },
     "metadata": {},
     "output_type": "display_data"
    },
    {
     "data": {
      "image/png": "[encoded data removed]",
      "text/plain": [
       "<Figure size 432x288 with 1 Axes>"
      ]
     },
     "metadata": {},
     "output_type": "display_data"
    },
    {
     "name": "stdout",
     "output_type": "stream",
     "text": [
      "Time:  11.54460072517395\n"
     ]
    },
    {
     "data": {
      "text/plain": [
       "['anomaly_scores/SARIMA_auto/grok_asg_anomaly']"
      ]
     },
     "execution_count": 6,
     "metadata": {},
     "output_type": "execute_result"
    }
   ],
   "source": [
    "save_path = \"anomaly_scores/SARIMA_auto/\" + dataset_name\n",
    "output_dict = ad.sarimax(gaussian_window_size=gaussian_window_size, step_size=100, auto=True,\n",
    "                         use_exog=True, plot_anomaly_scores=True,plot_forecast=True)\n",
    "print(\"Time: \", output_dict[\"Time\"])\n",
    "joblib.dump(output_dict, save_path)"
   ]
  },
  {
   "cell_type": "markdown",
   "metadata": {},
   "source": [
    "# Facebook Prophet"
   ]
  },
  {
   "cell_type": "code",
   "execution_count": 7,
   "metadata": {},
   "outputs": [
    {
     "name": "stderr",
     "output_type": "stream",
     "text": [
      "INFO:fbprophet:Disabling yearly seasonality. Run prophet with yearly_seasonality=True to override this.\n",
      "INFO:fbprophet:Disabling yearly seasonality. Run prophet with yearly_seasonality=True to override this.\n"
     ]
    },
    {
     "name": "stdout",
     "output_type": "stream",
     "text": [
      "Step Size:  100\n",
      "Changepoint Prior Scale:  0.01\n",
      "MSE:  0.9347441688493902\n"
     ]
    },
    {
     "name": "stderr",
     "output_type": "stream",
     "text": [
      "INFO:fbprophet:Disabling yearly seasonality. Run prophet with yearly_seasonality=True to override this.\n"
     ]
    },
    {
     "name": "stdout",
     "output_type": "stream",
     "text": [
      "Step Size:  100\n",
      "Changepoint Prior Scale:  0.05\n",
      "MSE:  1.4189752366165176\n"
     ]
    },
    {
     "name": "stderr",
     "output_type": "stream",
     "text": [
      "INFO:fbprophet:Disabling yearly seasonality. Run prophet with yearly_seasonality=True to override this.\n"
     ]
    },
    {
     "name": "stdout",
     "output_type": "stream",
     "text": [
      "Step Size:  100\n",
      "Changepoint Prior Scale:  0.1\n",
      "MSE:  0.7605450815545323\n"
     ]
    },
    {
     "name": "stderr",
     "output_type": "stream",
     "text": [
      "INFO:fbprophet:Disabling yearly seasonality. Run prophet with yearly_seasonality=True to override this.\n"
     ]
    },
    {
     "name": "stdout",
     "output_type": "stream",
     "text": [
      "Step Size:  100\n",
      "Changepoint Prior Scale:  0.15\n",
      "MSE:  0.5841679267901309\n"
     ]
    },
    {
     "name": "stderr",
     "output_type": "stream",
     "text": [
      "INFO:fbprophet:Disabling yearly seasonality. Run prophet with yearly_seasonality=True to override this.\n"
     ]
    },
    {
     "name": "stdout",
     "output_type": "stream",
     "text": [
      "Step Size:  100\n",
      "Changepoint Prior Scale:  0.2\n",
      "MSE:  0.4845337667406191\n"
     ]
    },
    {
     "name": "stderr",
     "output_type": "stream",
     "text": [
      "INFO:fbprophet:Disabling yearly seasonality. Run prophet with yearly_seasonality=True to override this.\n"
     ]
    },
    {
     "name": "stdout",
     "output_type": "stream",
     "text": [
      "Step Size:  200\n",
      "Changepoint Prior Scale:  0.01\n",
      "MSE:  0.9347441688493902\n"
     ]
    },
    {
     "name": "stderr",
     "output_type": "stream",
     "text": [
      "INFO:fbprophet:Disabling yearly seasonality. Run prophet with yearly_seasonality=True to override this.\n"
     ]
    },
    {
     "name": "stdout",
     "output_type": "stream",
     "text": [
      "Step Size:  200\n",
      "Changepoint Prior Scale:  0.05\n",
      "MSE:  1.4189752366165176\n"
     ]
    },
    {
     "name": "stderr",
     "output_type": "stream",
     "text": [
      "INFO:fbprophet:Disabling yearly seasonality. Run prophet with yearly_seasonality=True to override this.\n"
     ]
    },
    {
     "name": "stdout",
     "output_type": "stream",
     "text": [
      "Step Size:  200\n",
      "Changepoint Prior Scale:  0.1\n",
      "MSE:  0.7605450815545323\n"
     ]
    },
    {
     "name": "stderr",
     "output_type": "stream",
     "text": [
      "INFO:fbprophet:Disabling yearly seasonality. Run prophet with yearly_seasonality=True to override this.\n"
     ]
    },
    {
     "name": "stdout",
     "output_type": "stream",
     "text": [
      "Step Size:  200\n",
      "Changepoint Prior Scale:  0.15\n",
      "MSE:  0.5841679267901309\n"
     ]
    },
    {
     "name": "stderr",
     "output_type": "stream",
     "text": [
      "INFO:fbprophet:Disabling yearly seasonality. Run prophet with yearly_seasonality=True to override this.\n"
     ]
    },
    {
     "name": "stdout",
     "output_type": "stream",
     "text": [
      "Step Size:  200\n",
      "Changepoint Prior Scale:  0.2\n",
      "MSE:  0.4845337667406191\n"
     ]
    },
    {
     "name": "stderr",
     "output_type": "stream",
     "text": [
      "INFO:fbprophet:Disabling yearly seasonality. Run prophet with yearly_seasonality=True to override this.\n"
     ]
    },
    {
     "name": "stdout",
     "output_type": "stream",
     "text": [
      "Step Size:  300\n",
      "Changepoint Prior Scale:  0.01\n",
      "MSE:  0.9347441688493902\n"
     ]
    },
    {
     "name": "stderr",
     "output_type": "stream",
     "text": [
      "INFO:fbprophet:Disabling yearly seasonality. Run prophet with yearly_seasonality=True to override this.\n"
     ]
    },
    {
     "name": "stdout",
     "output_type": "stream",
     "text": [
      "Step Size:  300\n",
      "Changepoint Prior Scale:  0.05\n",
      "MSE:  1.4189752366165176\n"
     ]
    },
    {
     "name": "stderr",
     "output_type": "stream",
     "text": [
      "INFO:fbprophet:Disabling yearly seasonality. Run prophet with yearly_seasonality=True to override this.\n"
     ]
    },
    {
     "name": "stdout",
     "output_type": "stream",
     "text": [
      "Step Size:  300\n",
      "Changepoint Prior Scale:  0.1\n",
      "MSE:  0.7605450815545323\n"
     ]
    },
    {
     "name": "stderr",
     "output_type": "stream",
     "text": [
      "INFO:fbprophet:Disabling yearly seasonality. Run prophet with yearly_seasonality=True to override this.\n"
     ]
    },
    {
     "name": "stdout",
     "output_type": "stream",
     "text": [
      "Step Size:  300\n",
      "Changepoint Prior Scale:  0.15\n",
      "MSE:  0.5841679267901309\n"
     ]
    },
    {
     "name": "stderr",
     "output_type": "stream",
     "text": [
      "INFO:fbprophet:Disabling yearly seasonality. Run prophet with yearly_seasonality=True to override this.\n"
     ]
    },
    {
     "name": "stdout",
     "output_type": "stream",
     "text": [
      "Step Size:  300\n",
      "Changepoint Prior Scale:  0.2\n",
      "MSE:  0.4845337667406191\n"
     ]
    },
    {
     "name": "stderr",
     "output_type": "stream",
     "text": [
      "INFO:fbprophet:Disabling yearly seasonality. Run prophet with yearly_seasonality=True to override this.\n"
     ]
    },
    {
     "name": "stdout",
     "output_type": "stream",
     "text": [
      "Step Size:  400\n",
      "Changepoint Prior Scale:  0.01\n",
      "MSE:  0.9347441688493902\n"
     ]
    },
    {
     "name": "stderr",
     "output_type": "stream",
     "text": [
      "INFO:fbprophet:Disabling yearly seasonality. Run prophet with yearly_seasonality=True to override this.\n"
     ]
    },
    {
     "name": "stdout",
     "output_type": "stream",
     "text": [
      "Step Size:  400\n",
      "Changepoint Prior Scale:  0.05\n",
      "MSE:  1.4189752366165176\n"
     ]
    },
    {
     "name": "stderr",
     "output_type": "stream",
     "text": [
      "INFO:fbprophet:Disabling yearly seasonality. Run prophet with yearly_seasonality=True to override this.\n"
     ]
    },
    {
     "name": "stdout",
     "output_type": "stream",
     "text": [
      "Step Size:  400\n",
      "Changepoint Prior Scale:  0.1\n",
      "MSE:  0.7605450815545323\n"
     ]
    },
    {
     "name": "stderr",
     "output_type": "stream",
     "text": [
      "INFO:fbprophet:Disabling yearly seasonality. Run prophet with yearly_seasonality=True to override this.\n"
     ]
    },
    {
     "name": "stdout",
     "output_type": "stream",
     "text": [
      "Step Size:  400\n",
      "Changepoint Prior Scale:  0.15\n",
      "MSE:  0.5841679267901309\n"
     ]
    },
    {
     "name": "stderr",
     "output_type": "stream",
     "text": [
      "INFO:fbprophet:Disabling yearly seasonality. Run prophet with yearly_seasonality=True to override this.\n"
     ]
    },
    {
     "name": "stdout",
     "output_type": "stream",
     "text": [
      "Step Size:  400\n",
      "Changepoint Prior Scale:  0.2\n",
      "MSE:  0.4845337667406191\n"
     ]
    },
    {
     "name": "stderr",
     "output_type": "stream",
     "text": [
      "INFO:fbprophet:Disabling yearly seasonality. Run prophet with yearly_seasonality=True to override this.\n"
     ]
    },
    {
     "name": "stdout",
     "output_type": "stream",
     "text": [
      "Step Size:  500\n",
      "Changepoint Prior Scale:  0.01\n",
      "MSE:  0.9347441688493902\n"
     ]
    },
    {
     "name": "stderr",
     "output_type": "stream",
     "text": [
      "INFO:fbprophet:Disabling yearly seasonality. Run prophet with yearly_seasonality=True to override this.\n"
     ]
    },
    {
     "name": "stdout",
     "output_type": "stream",
     "text": [
      "Step Size:  500\n",
      "Changepoint Prior Scale:  0.05\n",
      "MSE:  1.4189752366165176\n"
     ]
    },
    {
     "name": "stderr",
     "output_type": "stream",
     "text": [
      "INFO:fbprophet:Disabling yearly seasonality. Run prophet with yearly_seasonality=True to override this.\n"
     ]
    },
    {
     "name": "stdout",
     "output_type": "stream",
     "text": [
      "Step Size:  500\n",
      "Changepoint Prior Scale:  0.1\n",
      "MSE:  0.7605450815545323\n"
     ]
    },
    {
     "name": "stderr",
     "output_type": "stream",
     "text": [
      "INFO:fbprophet:Disabling yearly seasonality. Run prophet with yearly_seasonality=True to override this.\n"
     ]
    },
    {
     "name": "stdout",
     "output_type": "stream",
     "text": [
      "Step Size:  500\n",
      "Changepoint Prior Scale:  0.15\n",
      "MSE:  0.5841679267901309\n",
      "Step Size:  500\n",
      "Changepoint Prior Scale:  0.2\n",
      "MSE:  0.4845337667406191\n",
      "\n",
      "best params:  Step Size 100 Changepoint Prior Scale0.2\n"
     ]
    }
   ],
   "source": [
    "# optimization step\n",
    "\n",
    "step_sizes = [100, 200, 300, 400, 500]\n",
    "changepoint_prior_scales = [.01, .05, .1, .15, .2]\n",
    "opt_dict = {}\n",
    "\n",
    "for step_size in step_sizes:\n",
    "    for changepoint_prior_scale in changepoint_prior_scales:\n",
    "\n",
    "        mse = ad.facebook_prophet(gaussian_window_size=gaussian_window_size, \n",
    "                                  changepoint_prior_scale=changepoint_prior_scale,\n",
    "                                  step_size=step_size,\n",
    "                                  optimize=True)\n",
    "        print(\"Step Size: \", step_size)\n",
    "        print(\"Changepoint Prior Scale: \", changepoint_prior_scale)\n",
    "        print(\"MSE: \",mse)\n",
    "\n",
    "        key_str = \"Step Size \" + str(step_size) +\" Changepoint Prior Scale\" + str(changepoint_prior_scale)\n",
    "\n",
    "        opt_dict[key_str] = mse\n",
    "\n",
    "best_params = min(opt_dict, key=opt_dict.get)\n",
    "print(\"\\nbest params: \", best_params)"
   ]
  },
  {
   "cell_type": "code",
   "execution_count": 8,
   "metadata": {},
   "outputs": [
    {
     "name": "stderr",
     "output_type": "stream",
     "text": [
      "INFO:fbprophet:Disabling yearly seasonality. Run prophet with yearly_seasonality=True to override this.\n",
      "INFO:fbprophet:Disabling weekly seasonality. Run prophet with weekly_seasonality=True to override this.\n"
     ]
    },
    {
     "data": {
      "image/png": "[encoded data removed]",
      "text/plain": [
       "<Figure size 432x288 with 1 Axes>"
      ]
     },
     "metadata": {},
     "output_type": "display_data"
    },
    {
     "data": {
      "image/png": "[encoded data removed]",
      "text/plain": [
       "<Figure size 432x288 with 1 Axes>"
      ]
     },
     "metadata": {},
     "output_type": "display_data"
    },
    {
     "name": "stdout",
     "output_type": "stream",
     "text": [
      "Time:  14.62827444076538\n"
     ]
    },
    {
     "data": {
      "text/plain": [
       "['anomaly_scores/Prophet/grok_asg_anomaly']"
      ]
     },
     "execution_count": 8,
     "metadata": {},
     "output_type": "execute_result"
    }
   ],
   "source": [
    "save_path = \"anomaly_scores/Prophet/\" + dataset_name\n",
    "output_dict = ad.facebook_prophet(gaussian_window_size=gaussian_window_size, \n",
    "                                  changepoint_prior_scale=.2,\n",
    "                                  step_size=100,\n",
    "                                  plot_forecast=True,\n",
    "                                  plot_anomaly_score=True)\n",
    "print(\"Time: \", output_dict[\"Time\"])\n",
    "joblib.dump(output_dict, save_path)"
   ]
  },
  {
   "cell_type": "markdown",
   "metadata": {},
   "source": [
    "# HTM"
   ]
  },
  {
   "cell_type": "code",
   "execution_count": 9,
   "metadata": {},
   "outputs": [
    {
     "data": {
      "image/png": "[encoded data removed]",
      "text/plain": [
       "<Figure size 432x288 with 1 Axes>"
      ]
     },
     "metadata": {},
     "output_type": "display_data"
    },
    {
     "name": "stdout",
     "output_type": "stream",
     "text": [
      "Time:  38.35\n"
     ]
    },
    {
     "data": {
      "text/plain": [
       "['anomaly_scores/HTM/grok_asg_anomaly']"
      ]
     },
     "execution_count": 9,
     "metadata": {},
     "output_type": "execute_result"
    }
   ],
   "source": [
    "htm_results_path = \"htm_studio_results/\" + \"htm_results_\" + dataset_name + \"_value.csv\"\n",
    "htm_results = pd.read_csv(htm_results_path, header=0)\n",
    "\n",
    "plt.plot(htm_results[\"raw_anomaly_score\"], color=\"black\", label=\"anomaly score\")\n",
    "plt.legend()\n",
    "plt.xticks(rotation=90)\n",
    "plt.show()\n",
    "\n",
    "anomaly_scores = np.nan_to_num(htm_results[\"raw_anomaly_score\"].values)\n",
    "\n",
    "save_path = \"anomaly_scores/HTM/\" + dataset_name\n",
    "print(\"Time: \", 38.35)\n",
    "output_dict = {\"Anomaly Scores\": anomaly_scores, \"Time\": 38.35}\n",
    "joblib.dump(output_dict, save_path)"
   ]
  },
  {
   "cell_type": "markdown",
   "metadata": {},
   "source": [
    "# windowed gaussian"
   ]
  },
  {
   "cell_type": "code",
   "execution_count": 10,
   "metadata": {},
   "outputs": [
    {
     "name": "stdout",
     "output_type": "stream",
     "text": [
      "Step size:  100\n",
      "MSE:  2.7998704238508108\n",
      "Step size:  200\n",
      "MSE:  2.7998704238508108\n",
      "Step size:  300\n",
      "MSE:  2.7998704238508108\n",
      "Step size:  400\n",
      "MSE:  2.7998704238508108\n",
      "Step size:  500\n",
      "MSE:  2.7998704238508108\n",
      "\n",
      "best step size:  100\n"
     ]
    }
   ],
   "source": [
    "# optimization step\n",
    "step_sizes = [100, 200, 300, 400, 500]\n",
    "\n",
    "opt_dict = {}\n",
    "\n",
    "for step_size in step_sizes:\n",
    "    print(\"Step size: \", step_size)\n",
    "    output_dict = ad.windowed_gaussian(gaussian_window_size=gaussian_window_size, \n",
    "                                       step_size = step_size, \n",
    "                                       optimize=True,\n",
    "                                       plot_anomaly_score=False)\n",
    "    print(\"MSE: \", output_dict[\"MSE\"])\n",
    "    opt_dict[step_size] = output_dict[\"MSE\"]\n",
    "\n",
    "best_step_size = min(opt_dict, key=opt_dict.get)\n",
    "print(\"\\nbest step size: \", best_step_size)"
   ]
  },
  {
   "cell_type": "code",
   "execution_count": 11,
   "metadata": {},
   "outputs": [
    {
     "data": {
      "image/png": "[encoded data removed]",
      "text/plain": [
       "<Figure size 432x288 with 1 Axes>"
      ]
     },
     "metadata": {},
     "output_type": "display_data"
    },
    {
     "name": "stdout",
     "output_type": "stream",
     "text": [
      "Time:  0.17125535011291504\n"
     ]
    },
    {
     "data": {
      "text/plain": [
       "['anomaly_scores/windowed_gaussian/grok_asg_anomaly']"
      ]
     },
     "execution_count": 11,
     "metadata": {},
     "output_type": "execute_result"
    }
   ],
   "source": [
    "save_path = \"anomaly_scores/windowed_gaussian/\" + dataset_name\n",
    "\n",
    "output_dict = ad.windowed_gaussian(gaussian_window_size=gaussian_window_size, \n",
    "                                   step_size = best_step_size, \n",
    "                                   plot_anomaly_score=True)\n",
    "\n",
    "print(\"Time: \", output_dict[\"Time\"])\n",
    "joblib.dump(output_dict, save_path)"
   ]
  },
  {
   "cell_type": "markdown",
   "metadata": {},
   "source": [
    "# HOTSAX"
   ]
  },
  {
   "cell_type": "code",
   "execution_count": 12,
   "metadata": {},
   "outputs": [],
   "source": [
    "# only need one window size\n",
    "\n",
    "# save_path = \"anomaly_scores/hotsax/\" + dataset_name\n",
    "# output_dict = ad.hotsax(win_size=50, num_discords=int((.2/100) * ad.get_length()),\n",
    "#                a_size=3, paa_size=3, z_threshold=0.01,\n",
    "#                plot_anomaly_score=True)\n",
    "# print(\"Time: \", output_dict[\"Time\"])\n",
    "# joblib.dump(output_dict, save_path)"
   ]
  },
  {
   "cell_type": "code",
   "execution_count": 13,
   "metadata": {},
   "outputs": [],
   "source": [
    "# no twitter bc no seasonality\n",
    "# no stl bc no seasonality\n",
    "# no anomalous bc no seasonality"
   ]
  }
 ],
 "metadata": {
  "kernelspec": {
   "display_name": "Python 3",
   "language": "python",
   "name": "python3"
  },
  "language_info": {
   "codemirror_mode": {
    "name": "ipython",
    "version": 3
   },
   "file_extension": ".py",
   "mimetype": "text/x-python",
   "name": "python",
   "nbconvert_exporter": "python",
   "pygments_lexer": "ipython3",
   "version": "3.6.7"
  }
 },
 "nbformat": 4,
 "nbformat_minor": 2
}
