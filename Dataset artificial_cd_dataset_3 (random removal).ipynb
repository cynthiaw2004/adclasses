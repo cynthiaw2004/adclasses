{
 "cells": [
  {
   "cell_type": "code",
   "execution_count": 1,
   "metadata": {},
   "outputs": [],
   "source": [
    "dataset_name = \"artificial_cd_3_random_removal\"\n",
    "path = \"data/\" + dataset_name + \".csv\"\n",
    "gaussian_window_size = 1024"
   ]
  },
  {
   "cell_type": "code",
   "execution_count": 2,
   "metadata": {},
   "outputs": [
    {
     "name": "stderr",
     "output_type": "stream",
     "text": [
      "Using TensorFlow backend.\n"
     ]
    }
   ],
   "source": [
    "import adclasses\n",
    "import pandas as pd\n",
    "import numpy as np\n",
    "import matplotlib.pyplot as plt\n",
    "import joblib\n",
    "import warnings\n",
    "warnings.filterwarnings('ignore')"
   ]
  },
  {
   "cell_type": "markdown",
   "metadata": {},
   "source": [
    "# Preprocess Dataset"
   ]
  },
  {
   "cell_type": "code",
   "execution_count": 3,
   "metadata": {},
   "outputs": [
    {
     "name": "stdout",
     "output_type": "stream",
     "text": [
      "Start date:  2014-04-01 00:00:00\n",
      "End date:  2014-04-04 11:15:00\n",
      "Missing time stamps: \n",
      " DatetimeIndex(['2014-04-01 01:20:00', '2014-04-02 02:05:00',\n",
      "               '2014-04-03 11:50:00'],\n",
      "              dtype='datetime64[ns]', freq=None)\n",
      "WARNING: There are missing time steps. This restricts the kinds of anomaly detection methods that can be used. See fill_missing_time_steps\n",
      "Length:  1000\n",
      "Time step size:  5min\n",
      "Start Date:  2014-04-01 00:00:00\n",
      "End Date:  2014-04-04 11:15:00\n",
      "Date Format:  %Y-%m-%d %H:%M:%S\n",
      "True outlier indices:  [200, 400, 600, 800]\n"
     ]
    }
   ],
   "source": [
    "data = pd.read_csv(path, header=0)\n",
    "start_date = data[\"timestamp\"].values[0]\n",
    "end_date = data[\"timestamp\"].values[-1]\n",
    "print(\"Start date: \", start_date)\n",
    "print(\"End date: \", end_date)\n",
    "\n",
    "data[\"timestamp\"] = pd.to_datetime(data[\"timestamp\"], \n",
    "                                   format=\"%Y-%m-%d %H:%M:%S\")\n",
    "\n",
    "print(\"Missing time stamps: \\n\", adclasses.find_missing_time_steps(start_date, end_date, \n",
    "                                                                   '5min', data))\n",
    "\n",
    "ad = adclasses.UnivariateAnomalyDetection(dataframe=data, \n",
    "                                          timestep=\"5min\", \n",
    "                                          dateformat=\"%Y-%m-%d %H:%M:%S\", \n",
    "                                          name=dataset_name)\n",
    "print(\"Length: \", ad.get_length())\n",
    "print(\"Time step size: \", ad.get_timestep())\n",
    "print(\"Start Date: \", start_date)\n",
    "print(\"End Date: \", end_date)\n",
    "print(\"Date Format: \", ad.get_dateformat())\n",
    "true_outlier_dates = [\"2014-04-01 16:40:00\",\n",
    "                      \"2014-04-02 09:20:00\",\n",
    "                      \"2014-04-03 02:00:00\",\n",
    "                      \"2014-04-03 18:40:00\"]\n",
    "true_outlier_indices = ad.convert_true_outlier_date(true_outlier_dates)\n",
    "print(\"True outlier indices: \", true_outlier_indices)"
   ]
  },
  {
   "cell_type": "markdown",
   "metadata": {},
   "source": [
    "# GLM"
   ]
  },
  {
   "cell_type": "code",
   "execution_count": 4,
   "metadata": {},
   "outputs": [
    {
     "name": "stderr",
     "output_type": "stream",
     "text": [
      "100%|██████████| 997/997 [00:00<00:00, 22063.17it/s]\n",
      "  0%|          | 0/997 [00:00<?, ?it/s]"
     ]
    },
    {
     "name": "stdout",
     "output_type": "stream",
     "text": [
      "Initial Mean 5.630199007903333\n",
      "Initial StdDev 2.626651549175287\n",
      "eta:  0.5\n",
      "lambda:  0.99\n",
      "MSE:  17.587676479581784\n",
      "Initial Mean 5.630199007903333\n",
      "Initial StdDev 2.626651549175287\n"
     ]
    },
    {
     "name": "stderr",
     "output_type": "stream",
     "text": [
      "100%|██████████| 997/997 [00:00<00:00, 26049.95it/s]\n",
      "100%|██████████| 997/997 [00:00<00:00, 28573.04it/s]\n",
      "100%|██████████| 997/997 [00:00<00:00, 28568.35it/s]"
     ]
    },
    {
     "name": "stdout",
     "output_type": "stream",
     "text": [
      "eta:  0.5\n",
      "lambda:  0.999\n",
      "MSE:  25.182834173700343\n",
      "Initial Mean 5.630199007903333\n",
      "Initial StdDev 2.626651549175287\n",
      "eta:  0.5\n",
      "lambda:  0.9999\n",
      "MSE:  28.714419911069943\n",
      "Initial Mean 5.630199007903333\n",
      "Initial StdDev 2.626651549175287\n"
     ]
    },
    {
     "name": "stderr",
     "output_type": "stream",
     "text": [
      "\n",
      "100%|██████████| 997/997 [00:00<00:00, 28617.23it/s]\n",
      "100%|██████████| 997/997 [00:00<00:00, 28933.24it/s]"
     ]
    },
    {
     "name": "stdout",
     "output_type": "stream",
     "text": [
      "eta:  1\n",
      "lambda:  0.99\n",
      "MSE:  14.246752189725125\n",
      "Initial Mean 5.630199007903333\n",
      "Initial StdDev 2.626651549175287\n",
      "eta:  1\n",
      "lambda:  0.999\n",
      "MSE:  16.60403927641908\n",
      "Initial Mean 5.630199007903333\n",
      "Initial StdDev 2.626651549175287\n"
     ]
    },
    {
     "name": "stderr",
     "output_type": "stream",
     "text": [
      "\n"
     ]
    },
    {
     "name": "stdout",
     "output_type": "stream",
     "text": [
      "eta:  1\n",
      "lambda:  0.9999\n",
      "MSE:  17.31348890510218\n",
      "\n",
      "best params:  eta 1 lambda 0.99\n"
     ]
    }
   ],
   "source": [
    "# optimize\n",
    "etas = [.5,1]\n",
    "lambdas = [.99, .999, .9999]\n",
    "\n",
    "opt_dict = {}\n",
    "\n",
    "for eta in etas:\n",
    "    for lambda_ in lambdas:\n",
    "       \n",
    "        mse = ad.glm(gaussian_window_size=gaussian_window_size, \n",
    "                     family='gaussian', \n",
    "                     eta=eta, \n",
    "                     lambda_=lambda_)[\"MSE\"]\n",
    "\n",
    "        print(\"eta: \", eta)\n",
    "        print(\"lambda: \", lambda_)\n",
    "        print(\"MSE: \",mse)\n",
    "\n",
    "        key_str = \"eta \" + str(eta) + \" lambda \" + str(lambda_)\n",
    "\n",
    "        opt_dict[key_str] = mse\n",
    "\n",
    "best_params = min(opt_dict, key=opt_dict.get)\n",
    "print(\"\\nbest params: \", best_params)"
   ]
  },
  {
   "cell_type": "code",
   "execution_count": 5,
   "metadata": {},
   "outputs": [
    {
     "name": "stderr",
     "output_type": "stream",
     "text": [
      "100%|██████████| 997/997 [00:00<00:00, 28171.69it/s]\n"
     ]
    },
    {
     "name": "stdout",
     "output_type": "stream",
     "text": [
      "Initial Mean 5.630199007903333\n",
      "Initial StdDev 2.626651549175287\n"
     ]
    },
    {
     "data": {
      "image/png": "[encoded data removed]",
      "text/plain": [
       "<Figure size 432x288 with 1 Axes>"
      ]
     },
     "metadata": {},
     "output_type": "display_data"
    },
    {
     "name": "stdout",
     "output_type": "stream",
     "text": [
      "Time:  0.13521409034729004\n"
     ]
    },
    {
     "data": {
      "text/plain": [
       "['anomaly_scores/GLM/artificial_cd_3_random_removal_random_removal']"
      ]
     },
     "execution_count": 5,
     "metadata": {},
     "output_type": "execute_result"
    },
    {
     "data": {
      "image/png": "[encoded data removed]",
      "text/plain": [
       "<Figure size 432x288 with 1 Axes>"
      ]
     },
     "metadata": {},
     "output_type": "display_data"
    }
   ],
   "source": [
    "save_path = \"anomaly_scores/GLM/\" + dataset_name+ \"_random_removal\"\n",
    "output_dict = ad.glm(gaussian_window_size=gaussian_window_size, family='gaussian', \n",
    "                     eta=int(best_params[4:6]),\n",
    "                     lambda_=float(best_params[14:]),\n",
    "                     plot_anomaly_scores=True, plot_forecast=True)\n",
    "print(\"Time: \", output_dict[\"Time\"])\n",
    "joblib.dump(output_dict, save_path)"
   ]
  },
  {
   "cell_type": "markdown",
   "metadata": {},
   "source": [
    "# SARIMA"
   ]
  },
  {
   "cell_type": "code",
   "execution_count": 6,
   "metadata": {},
   "outputs": [
    {
     "name": "stdout",
     "output_type": "stream",
     "text": [
      "\n",
      " ARIMA(2,0,2) with non-zero mean : Inf\n",
      " ARIMA(0,0,0) with non-zero mean : 758.302\n",
      " ARIMA(1,0,0) with non-zero mean : 761.1097\n",
      " ARIMA(0,0,1) with non-zero mean : 760.8728\n",
      " ARIMA(0,0,0) with zero mean     : 755.1736\n",
      " ARIMA(1,0,1) with non-zero mean : Inf\n",
      "\n",
      " Best model: Regression with ARIMA(0,0,0) errors \n",
      "\n"
     ]
    },
    {
     "data": {
      "image/png": "[encoded data removed]",
      "text/plain": [
       "<Figure size 432x288 with 1 Axes>"
      ]
     },
     "metadata": {},
     "output_type": "display_data"
    },
    {
     "data": {
      "image/png": "[encoded data removed]",
      "text/plain": [
       "<Figure size 432x288 with 1 Axes>"
      ]
     },
     "metadata": {},
     "output_type": "display_data"
    },
    {
     "name": "stdout",
     "output_type": "stream",
     "text": [
      "Time:  1.7513937950134277\n"
     ]
    },
    {
     "data": {
      "text/plain": [
       "['anomaly_scores/SARIMA_auto/artificial_cd_3_random_removal_random_removal']"
      ]
     },
     "execution_count": 6,
     "metadata": {},
     "output_type": "execute_result"
    }
   ],
   "source": [
    "save_path = \"anomaly_scores/SARIMA_auto/\" + dataset_name+ \"_random_removal\"\n",
    "output_dict = ad.sarimax(gaussian_window_size=gaussian_window_size, step_size=100, auto=True,\n",
    "                         use_exog=True, plot_anomaly_scores=True,plot_forecast=True)\n",
    "print(\"Time: \", output_dict[\"Time\"])\n",
    "joblib.dump(output_dict, save_path)"
   ]
  },
  {
   "cell_type": "markdown",
   "metadata": {},
   "source": [
    "# Prophet"
   ]
  },
  {
   "cell_type": "code",
   "execution_count": 7,
   "metadata": {},
   "outputs": [
    {
     "name": "stderr",
     "output_type": "stream",
     "text": [
      "INFO:fbprophet:Disabling yearly seasonality. Run prophet with yearly_seasonality=True to override this.\n",
      "INFO:fbprophet:Disabling weekly seasonality. Run prophet with weekly_seasonality=True to override this.\n",
      "INFO:fbprophet:Disabling yearly seasonality. Run prophet with yearly_seasonality=True to override this.\n",
      "INFO:fbprophet:Disabling weekly seasonality. Run prophet with weekly_seasonality=True to override this.\n"
     ]
    },
    {
     "name": "stdout",
     "output_type": "stream",
     "text": [
      "Step Size:  100\n",
      "Changepoint Prior Scale:  0.01\n",
      "MSE:  10.027124924320319\n"
     ]
    },
    {
     "name": "stderr",
     "output_type": "stream",
     "text": [
      "INFO:fbprophet:Disabling yearly seasonality. Run prophet with yearly_seasonality=True to override this.\n",
      "INFO:fbprophet:Disabling weekly seasonality. Run prophet with weekly_seasonality=True to override this.\n"
     ]
    },
    {
     "name": "stdout",
     "output_type": "stream",
     "text": [
      "Step Size:  100\n",
      "Changepoint Prior Scale:  0.05\n",
      "MSE:  10.0229011768375\n"
     ]
    },
    {
     "name": "stderr",
     "output_type": "stream",
     "text": [
      "INFO:fbprophet:Disabling yearly seasonality. Run prophet with yearly_seasonality=True to override this.\n",
      "INFO:fbprophet:Disabling weekly seasonality. Run prophet with weekly_seasonality=True to override this.\n"
     ]
    },
    {
     "name": "stdout",
     "output_type": "stream",
     "text": [
      "Step Size:  100\n",
      "Changepoint Prior Scale:  0.1\n",
      "MSE:  7.894930808793966\n"
     ]
    },
    {
     "name": "stderr",
     "output_type": "stream",
     "text": [
      "INFO:fbprophet:Disabling yearly seasonality. Run prophet with yearly_seasonality=True to override this.\n",
      "INFO:fbprophet:Disabling weekly seasonality. Run prophet with weekly_seasonality=True to override this.\n"
     ]
    },
    {
     "name": "stdout",
     "output_type": "stream",
     "text": [
      "Step Size:  100\n",
      "Changepoint Prior Scale:  0.15\n",
      "MSE:  7.336202348449604\n"
     ]
    },
    {
     "name": "stderr",
     "output_type": "stream",
     "text": [
      "INFO:fbprophet:Disabling yearly seasonality. Run prophet with yearly_seasonality=True to override this.\n",
      "INFO:fbprophet:Disabling weekly seasonality. Run prophet with weekly_seasonality=True to override this.\n"
     ]
    },
    {
     "name": "stdout",
     "output_type": "stream",
     "text": [
      "Step Size:  100\n",
      "Changepoint Prior Scale:  0.2\n",
      "MSE:  7.116003848853249\n"
     ]
    },
    {
     "name": "stderr",
     "output_type": "stream",
     "text": [
      "INFO:fbprophet:Disabling yearly seasonality. Run prophet with yearly_seasonality=True to override this.\n",
      "INFO:fbprophet:Disabling weekly seasonality. Run prophet with weekly_seasonality=True to override this.\n"
     ]
    },
    {
     "name": "stdout",
     "output_type": "stream",
     "text": [
      "Step Size:  200\n",
      "Changepoint Prior Scale:  0.01\n",
      "MSE:  10.027124924320319\n"
     ]
    },
    {
     "name": "stderr",
     "output_type": "stream",
     "text": [
      "INFO:fbprophet:Disabling yearly seasonality. Run prophet with yearly_seasonality=True to override this.\n",
      "INFO:fbprophet:Disabling weekly seasonality. Run prophet with weekly_seasonality=True to override this.\n"
     ]
    },
    {
     "name": "stdout",
     "output_type": "stream",
     "text": [
      "Step Size:  200\n",
      "Changepoint Prior Scale:  0.05\n",
      "MSE:  10.0229011768375\n"
     ]
    },
    {
     "name": "stderr",
     "output_type": "stream",
     "text": [
      "INFO:fbprophet:Disabling yearly seasonality. Run prophet with yearly_seasonality=True to override this.\n",
      "INFO:fbprophet:Disabling weekly seasonality. Run prophet with weekly_seasonality=True to override this.\n"
     ]
    },
    {
     "name": "stdout",
     "output_type": "stream",
     "text": [
      "Step Size:  200\n",
      "Changepoint Prior Scale:  0.1\n",
      "MSE:  7.894930808793966\n"
     ]
    },
    {
     "name": "stderr",
     "output_type": "stream",
     "text": [
      "INFO:fbprophet:Disabling yearly seasonality. Run prophet with yearly_seasonality=True to override this.\n",
      "INFO:fbprophet:Disabling weekly seasonality. Run prophet with weekly_seasonality=True to override this.\n"
     ]
    },
    {
     "name": "stdout",
     "output_type": "stream",
     "text": [
      "Step Size:  200\n",
      "Changepoint Prior Scale:  0.15\n",
      "MSE:  7.336202348449604\n"
     ]
    },
    {
     "name": "stderr",
     "output_type": "stream",
     "text": [
      "INFO:fbprophet:Disabling yearly seasonality. Run prophet with yearly_seasonality=True to override this.\n",
      "INFO:fbprophet:Disabling weekly seasonality. Run prophet with weekly_seasonality=True to override this.\n"
     ]
    },
    {
     "name": "stdout",
     "output_type": "stream",
     "text": [
      "Step Size:  200\n",
      "Changepoint Prior Scale:  0.2\n",
      "MSE:  7.116003848853249\n"
     ]
    },
    {
     "name": "stderr",
     "output_type": "stream",
     "text": [
      "INFO:fbprophet:Disabling yearly seasonality. Run prophet with yearly_seasonality=True to override this.\n",
      "INFO:fbprophet:Disabling weekly seasonality. Run prophet with weekly_seasonality=True to override this.\n"
     ]
    },
    {
     "name": "stdout",
     "output_type": "stream",
     "text": [
      "Step Size:  300\n",
      "Changepoint Prior Scale:  0.01\n",
      "MSE:  10.027124924320319\n"
     ]
    },
    {
     "name": "stderr",
     "output_type": "stream",
     "text": [
      "INFO:fbprophet:Disabling yearly seasonality. Run prophet with yearly_seasonality=True to override this.\n",
      "INFO:fbprophet:Disabling weekly seasonality. Run prophet with weekly_seasonality=True to override this.\n"
     ]
    },
    {
     "name": "stdout",
     "output_type": "stream",
     "text": [
      "Step Size:  300\n",
      "Changepoint Prior Scale:  0.05\n",
      "MSE:  10.0229011768375\n"
     ]
    },
    {
     "name": "stderr",
     "output_type": "stream",
     "text": [
      "INFO:fbprophet:Disabling yearly seasonality. Run prophet with yearly_seasonality=True to override this.\n",
      "INFO:fbprophet:Disabling weekly seasonality. Run prophet with weekly_seasonality=True to override this.\n"
     ]
    },
    {
     "name": "stdout",
     "output_type": "stream",
     "text": [
      "Step Size:  300\n",
      "Changepoint Prior Scale:  0.1\n",
      "MSE:  7.894930808793966\n"
     ]
    },
    {
     "name": "stderr",
     "output_type": "stream",
     "text": [
      "INFO:fbprophet:Disabling yearly seasonality. Run prophet with yearly_seasonality=True to override this.\n",
      "INFO:fbprophet:Disabling weekly seasonality. Run prophet with weekly_seasonality=True to override this.\n"
     ]
    },
    {
     "name": "stdout",
     "output_type": "stream",
     "text": [
      "Step Size:  300\n",
      "Changepoint Prior Scale:  0.15\n",
      "MSE:  7.336202348449604\n"
     ]
    },
    {
     "name": "stderr",
     "output_type": "stream",
     "text": [
      "INFO:fbprophet:Disabling yearly seasonality. Run prophet with yearly_seasonality=True to override this.\n",
      "INFO:fbprophet:Disabling weekly seasonality. Run prophet with weekly_seasonality=True to override this.\n"
     ]
    },
    {
     "name": "stdout",
     "output_type": "stream",
     "text": [
      "Step Size:  300\n",
      "Changepoint Prior Scale:  0.2\n",
      "MSE:  7.116003848853249\n"
     ]
    },
    {
     "name": "stderr",
     "output_type": "stream",
     "text": [
      "INFO:fbprophet:Disabling yearly seasonality. Run prophet with yearly_seasonality=True to override this.\n",
      "INFO:fbprophet:Disabling weekly seasonality. Run prophet with weekly_seasonality=True to override this.\n"
     ]
    },
    {
     "name": "stdout",
     "output_type": "stream",
     "text": [
      "Step Size:  400\n",
      "Changepoint Prior Scale:  0.01\n",
      "MSE:  10.027124924320319\n"
     ]
    },
    {
     "name": "stderr",
     "output_type": "stream",
     "text": [
      "INFO:fbprophet:Disabling yearly seasonality. Run prophet with yearly_seasonality=True to override this.\n",
      "INFO:fbprophet:Disabling weekly seasonality. Run prophet with weekly_seasonality=True to override this.\n"
     ]
    },
    {
     "name": "stdout",
     "output_type": "stream",
     "text": [
      "Step Size:  400\n",
      "Changepoint Prior Scale:  0.05\n",
      "MSE:  10.0229011768375\n"
     ]
    },
    {
     "name": "stderr",
     "output_type": "stream",
     "text": [
      "INFO:fbprophet:Disabling yearly seasonality. Run prophet with yearly_seasonality=True to override this.\n",
      "INFO:fbprophet:Disabling weekly seasonality. Run prophet with weekly_seasonality=True to override this.\n"
     ]
    },
    {
     "name": "stdout",
     "output_type": "stream",
     "text": [
      "Step Size:  400\n",
      "Changepoint Prior Scale:  0.1\n",
      "MSE:  7.894930808793966\n"
     ]
    },
    {
     "name": "stderr",
     "output_type": "stream",
     "text": [
      "INFO:fbprophet:Disabling yearly seasonality. Run prophet with yearly_seasonality=True to override this.\n",
      "INFO:fbprophet:Disabling weekly seasonality. Run prophet with weekly_seasonality=True to override this.\n"
     ]
    },
    {
     "name": "stdout",
     "output_type": "stream",
     "text": [
      "Step Size:  400\n",
      "Changepoint Prior Scale:  0.15\n",
      "MSE:  7.336202348449604\n"
     ]
    },
    {
     "name": "stderr",
     "output_type": "stream",
     "text": [
      "INFO:fbprophet:Disabling yearly seasonality. Run prophet with yearly_seasonality=True to override this.\n",
      "INFO:fbprophet:Disabling weekly seasonality. Run prophet with weekly_seasonality=True to override this.\n"
     ]
    },
    {
     "name": "stdout",
     "output_type": "stream",
     "text": [
      "Step Size:  400\n",
      "Changepoint Prior Scale:  0.2\n",
      "MSE:  7.116003848853249\n"
     ]
    },
    {
     "name": "stderr",
     "output_type": "stream",
     "text": [
      "INFO:fbprophet:Disabling yearly seasonality. Run prophet with yearly_seasonality=True to override this.\n",
      "INFO:fbprophet:Disabling weekly seasonality. Run prophet with weekly_seasonality=True to override this.\n"
     ]
    },
    {
     "name": "stdout",
     "output_type": "stream",
     "text": [
      "Step Size:  500\n",
      "Changepoint Prior Scale:  0.01\n",
      "MSE:  10.027124924320319\n"
     ]
    },
    {
     "name": "stderr",
     "output_type": "stream",
     "text": [
      "INFO:fbprophet:Disabling yearly seasonality. Run prophet with yearly_seasonality=True to override this.\n",
      "INFO:fbprophet:Disabling weekly seasonality. Run prophet with weekly_seasonality=True to override this.\n"
     ]
    },
    {
     "name": "stdout",
     "output_type": "stream",
     "text": [
      "Step Size:  500\n",
      "Changepoint Prior Scale:  0.05\n",
      "MSE:  10.0229011768375\n"
     ]
    },
    {
     "name": "stderr",
     "output_type": "stream",
     "text": [
      "INFO:fbprophet:Disabling yearly seasonality. Run prophet with yearly_seasonality=True to override this.\n",
      "INFO:fbprophet:Disabling weekly seasonality. Run prophet with weekly_seasonality=True to override this.\n"
     ]
    },
    {
     "name": "stdout",
     "output_type": "stream",
     "text": [
      "Step Size:  500\n",
      "Changepoint Prior Scale:  0.1\n",
      "MSE:  7.894930808793966\n"
     ]
    },
    {
     "name": "stderr",
     "output_type": "stream",
     "text": [
      "INFO:fbprophet:Disabling yearly seasonality. Run prophet with yearly_seasonality=True to override this.\n",
      "INFO:fbprophet:Disabling weekly seasonality. Run prophet with weekly_seasonality=True to override this.\n"
     ]
    },
    {
     "name": "stdout",
     "output_type": "stream",
     "text": [
      "Step Size:  500\n",
      "Changepoint Prior Scale:  0.15\n",
      "MSE:  7.336202348449604\n",
      "Step Size:  500\n",
      "Changepoint Prior Scale:  0.2\n",
      "MSE:  7.116003848853249\n",
      "\n",
      "best params:  Step Size 100 Changepoint Prior Scale0.2\n"
     ]
    }
   ],
   "source": [
    "# optimization step\n",
    "\n",
    "step_sizes = [100, 200, 300, 400, 500]\n",
    "changepoint_prior_scales = [.01, .05, .1, .15, .2]\n",
    "opt_dict = {}\n",
    "\n",
    "for step_size in step_sizes:\n",
    "    for changepoint_prior_scale in changepoint_prior_scales:\n",
    "\n",
    "        mse = ad.facebook_prophet(gaussian_window_size=gaussian_window_size, \n",
    "                                  changepoint_prior_scale=changepoint_prior_scale,\n",
    "                                  step_size=step_size,\n",
    "                                  optimize=True)\n",
    "        print(\"Step Size: \", step_size)\n",
    "        print(\"Changepoint Prior Scale: \", changepoint_prior_scale)\n",
    "        print(\"MSE: \",mse)\n",
    "\n",
    "        key_str = \"Step Size \" + str(step_size) +\" Changepoint Prior Scale\" + str(changepoint_prior_scale)\n",
    "\n",
    "        opt_dict[key_str] = mse\n",
    "\n",
    "best_params = min(opt_dict, key=opt_dict.get)\n",
    "print(\"\\nbest params: \", best_params)"
   ]
  },
  {
   "cell_type": "code",
   "execution_count": 8,
   "metadata": {},
   "outputs": [
    {
     "name": "stderr",
     "output_type": "stream",
     "text": [
      "INFO:fbprophet:Disabling yearly seasonality. Run prophet with yearly_seasonality=True to override this.\n",
      "INFO:fbprophet:Disabling weekly seasonality. Run prophet with weekly_seasonality=True to override this.\n",
      "INFO:fbprophet:Disabling daily seasonality. Run prophet with daily_seasonality=True to override this.\n"
     ]
    },
    {
     "data": {
      "image/png": "[encoded data removed]",
      "text/plain": [
       "<Figure size 432x288 with 1 Axes>"
      ]
     },
     "metadata": {},
     "output_type": "display_data"
    },
    {
     "data": {
      "image/png": "[encoded data removed]",
      "text/plain": [
       "<Figure size 432x288 with 1 Axes>"
      ]
     },
     "metadata": {},
     "output_type": "display_data"
    },
    {
     "name": "stdout",
     "output_type": "stream",
     "text": [
      "Time:  4.162195682525635\n"
     ]
    },
    {
     "data": {
      "text/plain": [
       "['anomaly_scores/Prophet/artificial_cd_3_random_removal_random_removal']"
      ]
     },
     "execution_count": 8,
     "metadata": {},
     "output_type": "execute_result"
    }
   ],
   "source": [
    "save_path = \"anomaly_scores/Prophet/\" + dataset_name+ \"_random_removal\"\n",
    "output_dict = ad.facebook_prophet(gaussian_window_size=gaussian_window_size, \n",
    "                                  changepoint_prior_scale=.2,\n",
    "                                  step_size=100,\n",
    "                                  plot_forecast=True,\n",
    "                                  plot_anomaly_score=True)\n",
    "print(\"Time: \", output_dict[\"Time\"])\n",
    "joblib.dump(output_dict, save_path)"
   ]
  },
  {
   "cell_type": "code",
   "execution_count": 9,
   "metadata": {},
   "outputs": [],
   "source": [
    "# no seasonality so no stl"
   ]
  }
 ],
 "metadata": {
  "kernelspec": {
   "display_name": "Python 3",
   "language": "python",
   "name": "python3"
  },
  "language_info": {
   "codemirror_mode": {
    "name": "ipython",
    "version": 3
   },
   "file_extension": ".py",
   "mimetype": "text/x-python",
   "name": "python",
   "nbconvert_exporter": "python",
   "pygments_lexer": "ipython3",
   "version": "3.6.7"
  }
 },
 "nbformat": 4,
 "nbformat_minor": 2
}
