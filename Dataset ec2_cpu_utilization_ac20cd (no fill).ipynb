{
 "cells": [
  {
   "cell_type": "code",
   "execution_count": 1,
   "metadata": {},
   "outputs": [],
   "source": [
    "dataset_name = \"ec2_cpu_utilization_ac20cd\"\n",
    "path = \"data/\" + dataset_name + \".csv\"\n",
    "gaussian_window_size = 1024"
   ]
  },
  {
   "cell_type": "code",
   "execution_count": 2,
   "metadata": {},
   "outputs": [
    {
     "name": "stderr",
     "output_type": "stream",
     "text": [
      "Using TensorFlow backend.\n"
     ]
    }
   ],
   "source": [
    "import adclasses\n",
    "import pandas as pd\n",
    "import numpy as np\n",
    "import matplotlib.pyplot as plt\n",
    "import joblib\n",
    "import warnings\n",
    "warnings.filterwarnings('ignore')"
   ]
  },
  {
   "cell_type": "markdown",
   "metadata": {},
   "source": [
    "# Preprocess Dataset"
   ]
  },
  {
   "cell_type": "code",
   "execution_count": 3,
   "metadata": {},
   "outputs": [
    {
     "name": "stdout",
     "output_type": "stream",
     "text": [
      "Start date:  2014-04-02 14:29:00\n",
      "End date:  2014-04-16 14:49:00\n",
      "Missing time stamps: \n",
      " DatetimeIndex(['2014-04-07 13:39:00', '2014-04-07 13:44:00',\n",
      "               '2014-04-14 23:49:00', '2014-04-14 23:54:00',\n",
      "               '2014-04-14 23:59:00'],\n",
      "              dtype='datetime64[ns]', freq=None)\n",
      "WARNING: There are missing time steps. This restricts the kinds of anomaly detection methods that can be used. See fill_missing_time_steps\n",
      "Length:  4037\n",
      "Time step size:  5min\n",
      "Start Date:  2014-04-02 14:29:00\n",
      "End Date:  2014-04-16 14:49:00\n",
      "Date Format:  %Y-%m-%d %H:%M:%S\n",
      "True outlier indices:  [3580]\n"
     ]
    }
   ],
   "source": [
    "data = pd.read_csv(path, header=0)\n",
    "start_date = data[\"timestamp\"].values[0]\n",
    "end_date = data[\"timestamp\"].values[-1]\n",
    "print(\"Start date: \", start_date)\n",
    "print(\"End date: \", end_date)\n",
    "\n",
    "data[\"timestamp\"] = pd.to_datetime(data[\"timestamp\"], \n",
    "                                   format=\"%Y-%m-%d %H:%M:%S\")\n",
    "\n",
    "print(\"Missing time stamps: \\n\", adclasses.find_missing_time_steps(start_date, end_date, \n",
    "                                                                   '5min', data))\n",
    "ad = adclasses.UnivariateAnomalyDetection(dataframe=data, \n",
    "                                          timestep=\"5min\", \n",
    "                                          dateformat=\"%Y-%m-%d %H:%M:%S\", \n",
    "                                          name=dataset_name)\n",
    "print(\"Length: \", ad.get_length())\n",
    "print(\"Time step size: \", ad.get_timestep())\n",
    "print(\"Start Date: \", start_date)\n",
    "print(\"End Date: \", end_date)\n",
    "print(\"Date Format: \", ad.get_dateformat())\n",
    "true_outlier_dates = [\"2014-04-15 00:49:00\"]\n",
    "true_outlier_indices = ad.convert_true_outlier_date(true_outlier_dates)\n",
    "print(\"True outlier indices: \", true_outlier_indices)"
   ]
  },
  {
   "cell_type": "markdown",
   "metadata": {},
   "source": [
    "# GLM"
   ]
  },
  {
   "cell_type": "code",
   "execution_count": 4,
   "metadata": {},
   "outputs": [
    {
     "name": "stderr",
     "output_type": "stream",
     "text": [
      "100%|██████████| 4032/4032 [00:00<00:00, 24026.43it/s]"
     ]
    },
    {
     "name": "stdout",
     "output_type": "stream",
     "text": [
      "Initial Mean 30.21449917355372\n",
      "Initial StdDev 17.176365587345547\n"
     ]
    },
    {
     "name": "stderr",
     "output_type": "stream",
     "text": [
      "\n",
      " 43%|████▎     | 1738/4032 [00:00<00:00, 17368.05it/s]"
     ]
    },
    {
     "name": "stdout",
     "output_type": "stream",
     "text": [
      "eta:  0.5\n",
      "lambda:  0.99\n",
      "MSE:  2839862049691157.0\n",
      "Initial Mean 30.21449917355372\n",
      "Initial StdDev 17.176365587345547\n"
     ]
    },
    {
     "name": "stderr",
     "output_type": "stream",
     "text": [
      "100%|██████████| 4032/4032 [00:00<00:00, 21205.40it/s]\n",
      "100%|██████████| 4032/4032 [00:00<00:00, 22576.66it/s]"
     ]
    },
    {
     "name": "stdout",
     "output_type": "stream",
     "text": [
      "eta:  0.5\n",
      "lambda:  0.999\n",
      "MSE:  199.03908314719646\n",
      "Initial Mean 30.21449917355372\n",
      "Initial StdDev 17.176365587345547\n"
     ]
    },
    {
     "name": "stderr",
     "output_type": "stream",
     "text": [
      "\n",
      " 41%|████      | 1647/4032 [00:00<00:00, 16312.04it/s]"
     ]
    },
    {
     "name": "stdout",
     "output_type": "stream",
     "text": [
      "eta:  0.5\n",
      "lambda:  0.9999\n",
      "MSE:  379.96021477903787\n",
      "Initial Mean 30.21449917355372\n",
      "Initial StdDev 17.176365587345547\n"
     ]
    },
    {
     "name": "stderr",
     "output_type": "stream",
     "text": [
      "100%|██████████| 4032/4032 [00:00<00:00, 16212.78it/s]\n",
      " 40%|████      | 1621/4032 [00:00<00:00, 16200.94it/s]"
     ]
    },
    {
     "name": "stdout",
     "output_type": "stream",
     "text": [
      "eta:  1\n",
      "lambda:  0.99\n",
      "MSE:  417.7537485058445\n",
      "Initial Mean 30.21449917355372\n",
      "Initial StdDev 17.176365587345547\n"
     ]
    },
    {
     "name": "stderr",
     "output_type": "stream",
     "text": [
      "100%|██████████| 4032/4032 [00:00<00:00, 15369.55it/s]\n",
      " 38%|███▊      | 1523/4032 [00:00<00:00, 15226.67it/s]"
     ]
    },
    {
     "name": "stdout",
     "output_type": "stream",
     "text": [
      "eta:  1\n",
      "lambda:  0.999\n",
      "MSE:  101.5700441448934\n",
      "Initial Mean 30.21449917355372\n",
      "Initial StdDev 17.176365587345547\n"
     ]
    },
    {
     "name": "stderr",
     "output_type": "stream",
     "text": [
      "100%|██████████| 4032/4032 [00:00<00:00, 14918.15it/s]\n"
     ]
    },
    {
     "name": "stdout",
     "output_type": "stream",
     "text": [
      "eta:  1\n",
      "lambda:  0.9999\n",
      "MSE:  282.7926819645449\n",
      "\n",
      "best params:  eta 1 lambda 0.999\n"
     ]
    }
   ],
   "source": [
    "# optimize\n",
    "etas = [.5,1]\n",
    "lambdas = [.99, .999, .9999]\n",
    "\n",
    "opt_dict = {}\n",
    "\n",
    "for eta in etas:\n",
    "    for lambda_ in lambdas:\n",
    "       \n",
    "        mse = ad.glm(gaussian_window_size=gaussian_window_size, \n",
    "                     family='gaussian', \n",
    "                     eta=eta, \n",
    "                     lambda_=lambda_)[\"MSE\"]\n",
    "\n",
    "        print(\"eta: \", eta)\n",
    "        print(\"lambda: \", lambda_)\n",
    "        print(\"MSE: \",mse)\n",
    "\n",
    "        key_str = \"eta \" + str(eta) + \" lambda \" + str(lambda_)\n",
    "\n",
    "        opt_dict[key_str] = mse\n",
    "\n",
    "best_params = min(opt_dict, key=opt_dict.get)\n",
    "print(\"\\nbest params: \", best_params)"
   ]
  },
  {
   "cell_type": "code",
   "execution_count": 5,
   "metadata": {},
   "outputs": [
    {
     "name": "stderr",
     "output_type": "stream",
     "text": [
      "100%|██████████| 4032/4032 [00:00<00:00, 23041.29it/s]"
     ]
    },
    {
     "name": "stdout",
     "output_type": "stream",
     "text": [
      "Initial Mean 30.21449917355372\n",
      "Initial StdDev 17.176365587345547\n"
     ]
    },
    {
     "name": "stderr",
     "output_type": "stream",
     "text": [
      "\n"
     ]
    },
    {
     "data": {
      "image/png": "[encoded data removed]",
      "text/plain": [
       "<Figure size 432x288 with 1 Axes>"
      ]
     },
     "metadata": {},
     "output_type": "display_data"
    },
    {
     "name": "stdout",
     "output_type": "stream",
     "text": [
      "Time:  1.1712613105773926\n"
     ]
    },
    {
     "data": {
      "text/plain": [
       "['anomaly_scores/GLM/ec2_cpu_utilization_ac20cd_no_fill']"
      ]
     },
     "execution_count": 5,
     "metadata": {},
     "output_type": "execute_result"
    },
    {
     "data": {
      "image/png": "[encoded data removed]",
      "text/plain": [
       "<Figure size 432x288 with 1 Axes>"
      ]
     },
     "metadata": {},
     "output_type": "display_data"
    }
   ],
   "source": [
    "save_path = \"anomaly_scores/GLM/\" + dataset_name+ \"_no_fill\"\n",
    "output_dict = ad.glm(gaussian_window_size=gaussian_window_size, family='gaussian', \n",
    "                     eta=int(best_params[4:6]),\n",
    "                     lambda_=float(best_params[14:]),\n",
    "                     plot_anomaly_scores=True, plot_forecast=True)\n",
    "print(\"Time: \", output_dict[\"Time\"])\n",
    "joblib.dump(output_dict, save_path)"
   ]
  },
  {
   "cell_type": "markdown",
   "metadata": {},
   "source": [
    "# SARIMA"
   ]
  },
  {
   "cell_type": "code",
   "execution_count": 6,
   "metadata": {},
   "outputs": [
    {
     "name": "stdout",
     "output_type": "stream",
     "text": [
      "\n",
      " Fitting models using approximations to speed things up...\n",
      "\n",
      " ARIMA(2,0,2) with non-zero mean : Inf\n",
      " ARIMA(0,0,0) with non-zero mean : 3917.969\n",
      " ARIMA(1,0,0) with non-zero mean : 3356.785\n",
      " ARIMA(0,0,1) with non-zero mean : 3640.644\n",
      " ARIMA(0,0,0) with zero mean     : 3917.072\n",
      " ARIMA(2,0,0) with non-zero mean : 3278.541\n",
      " ARIMA(3,0,0) with non-zero mean : 3258.483\n",
      " ARIMA(4,0,0) with non-zero mean : Inf\n",
      " ARIMA(3,0,1) with non-zero mean : Inf\n",
      " ARIMA(2,0,1) with non-zero mean : 3259.537\n",
      " ARIMA(4,0,1) with non-zero mean : 3262.328\n",
      " ARIMA(3,0,0) with zero mean     : 3257.412\n",
      " ARIMA(2,0,0) with zero mean     : 3277.17\n",
      " ARIMA(4,0,0) with zero mean     : 3259.814\n",
      " ARIMA(3,0,1) with zero mean     : 3259.433\n",
      " ARIMA(2,0,1) with zero mean     : 3258.982\n",
      " ARIMA(4,0,1) with zero mean     : 3261.232\n",
      "\n",
      " Now re-fitting the best model(s) without approximations...\n",
      "\n",
      " ARIMA(3,0,0) with zero mean     : 3257.576\n",
      "\n",
      " Best model: Regression with ARIMA(3,0,0) errors \n",
      "\n"
     ]
    },
    {
     "data": {
      "image/png": "[encoded data removed]",
      "text/plain": [
       "<Figure size 432x288 with 1 Axes>"
      ]
     },
     "metadata": {},
     "output_type": "display_data"
    },
    {
     "data": {
      "image/png": "[encoded data removed]",
      "text/plain": [
       "<Figure size 432x288 with 1 Axes>"
      ]
     },
     "metadata": {},
     "output_type": "display_data"
    },
    {
     "name": "stdout",
     "output_type": "stream",
     "text": [
      "Time:  19.484111309051514\n"
     ]
    },
    {
     "data": {
      "text/plain": [
       "['anomaly_scores/SARIMA_auto/ec2_cpu_utilization_ac20cd_no_fill']"
      ]
     },
     "execution_count": 6,
     "metadata": {},
     "output_type": "execute_result"
    }
   ],
   "source": [
    "save_path = \"anomaly_scores/SARIMA_auto/\" + dataset_name+ \"_no_fill\"\n",
    "output_dict = ad.sarimax(gaussian_window_size=gaussian_window_size, step_size=100, auto=True,\n",
    "                         use_exog=True, plot_anomaly_scores=True,plot_forecast=True)\n",
    "print(\"Time: \", output_dict[\"Time\"])\n",
    "joblib.dump(output_dict, save_path)"
   ]
  },
  {
   "cell_type": "markdown",
   "metadata": {},
   "source": [
    "# Prophet"
   ]
  },
  {
   "cell_type": "code",
   "execution_count": 7,
   "metadata": {},
   "outputs": [
    {
     "name": "stderr",
     "output_type": "stream",
     "text": [
      "INFO:fbprophet:Disabling yearly seasonality. Run prophet with yearly_seasonality=True to override this.\n",
      "INFO:fbprophet:Disabling yearly seasonality. Run prophet with yearly_seasonality=True to override this.\n"
     ]
    },
    {
     "name": "stdout",
     "output_type": "stream",
     "text": [
      "Step Size:  100\n",
      "Changepoint Prior Scale:  0.01\n",
      "MSE:  456.5233694745712\n"
     ]
    },
    {
     "name": "stderr",
     "output_type": "stream",
     "text": [
      "INFO:fbprophet:Disabling yearly seasonality. Run prophet with yearly_seasonality=True to override this.\n"
     ]
    },
    {
     "name": "stdout",
     "output_type": "stream",
     "text": [
      "Step Size:  100\n",
      "Changepoint Prior Scale:  0.05\n",
      "MSE:  169.98200924228277\n"
     ]
    },
    {
     "name": "stderr",
     "output_type": "stream",
     "text": [
      "INFO:fbprophet:Disabling yearly seasonality. Run prophet with yearly_seasonality=True to override this.\n"
     ]
    },
    {
     "name": "stdout",
     "output_type": "stream",
     "text": [
      "Step Size:  100\n",
      "Changepoint Prior Scale:  0.1\n",
      "MSE:  83.95171740150965\n"
     ]
    },
    {
     "name": "stderr",
     "output_type": "stream",
     "text": [
      "INFO:fbprophet:Disabling yearly seasonality. Run prophet with yearly_seasonality=True to override this.\n"
     ]
    },
    {
     "name": "stdout",
     "output_type": "stream",
     "text": [
      "Step Size:  100\n",
      "Changepoint Prior Scale:  0.15\n",
      "MSE:  68.97230489915171\n"
     ]
    },
    {
     "name": "stderr",
     "output_type": "stream",
     "text": [
      "INFO:fbprophet:Disabling yearly seasonality. Run prophet with yearly_seasonality=True to override this.\n"
     ]
    },
    {
     "name": "stdout",
     "output_type": "stream",
     "text": [
      "Step Size:  100\n",
      "Changepoint Prior Scale:  0.2\n",
      "MSE:  68.28920551254969\n"
     ]
    },
    {
     "name": "stderr",
     "output_type": "stream",
     "text": [
      "INFO:fbprophet:Disabling yearly seasonality. Run prophet with yearly_seasonality=True to override this.\n"
     ]
    },
    {
     "name": "stdout",
     "output_type": "stream",
     "text": [
      "Step Size:  200\n",
      "Changepoint Prior Scale:  0.01\n",
      "MSE:  456.5233694745712\n"
     ]
    },
    {
     "name": "stderr",
     "output_type": "stream",
     "text": [
      "INFO:fbprophet:Disabling yearly seasonality. Run prophet with yearly_seasonality=True to override this.\n"
     ]
    },
    {
     "name": "stdout",
     "output_type": "stream",
     "text": [
      "Step Size:  200\n",
      "Changepoint Prior Scale:  0.05\n",
      "MSE:  169.98200924228277\n"
     ]
    },
    {
     "name": "stderr",
     "output_type": "stream",
     "text": [
      "INFO:fbprophet:Disabling yearly seasonality. Run prophet with yearly_seasonality=True to override this.\n"
     ]
    },
    {
     "name": "stdout",
     "output_type": "stream",
     "text": [
      "Step Size:  200\n",
      "Changepoint Prior Scale:  0.1\n",
      "MSE:  83.95171740150965\n"
     ]
    },
    {
     "name": "stderr",
     "output_type": "stream",
     "text": [
      "INFO:fbprophet:Disabling yearly seasonality. Run prophet with yearly_seasonality=True to override this.\n"
     ]
    },
    {
     "name": "stdout",
     "output_type": "stream",
     "text": [
      "Step Size:  200\n",
      "Changepoint Prior Scale:  0.15\n",
      "MSE:  68.97230489915171\n",
      "Step Size:  200\n",
      "Changepoint Prior Scale:  0.2\n",
      "MSE:  68.28920551254969\n",
      "\n",
      "best params:  Step Size 100 Changepoint Prior Scale0.2\n"
     ]
    }
   ],
   "source": [
    "# optimization step\n",
    "\n",
    "step_sizes = [100, 200]\n",
    "changepoint_prior_scales = [.01, .05, .1, .15, .2]\n",
    "opt_dict = {}\n",
    "\n",
    "for step_size in step_sizes:\n",
    "    for changepoint_prior_scale in changepoint_prior_scales:\n",
    "\n",
    "        mse = ad.facebook_prophet(gaussian_window_size=gaussian_window_size, \n",
    "                                  changepoint_prior_scale=changepoint_prior_scale,\n",
    "                                  step_size=step_size,\n",
    "                                  optimize=True)\n",
    "        print(\"Step Size: \", step_size)\n",
    "        print(\"Changepoint Prior Scale: \", changepoint_prior_scale)\n",
    "        print(\"MSE: \",mse)\n",
    "\n",
    "        key_str = \"Step Size \" + str(step_size) +\" Changepoint Prior Scale\" + str(changepoint_prior_scale)\n",
    "\n",
    "        opt_dict[key_str] = mse\n",
    "\n",
    "best_params = min(opt_dict, key=opt_dict.get)\n",
    "print(\"\\nbest params: \", best_params)"
   ]
  },
  {
   "cell_type": "code",
   "execution_count": 8,
   "metadata": {},
   "outputs": [
    {
     "name": "stderr",
     "output_type": "stream",
     "text": [
      "INFO:fbprophet:Disabling yearly seasonality. Run prophet with yearly_seasonality=True to override this.\n",
      "INFO:fbprophet:Disabling weekly seasonality. Run prophet with weekly_seasonality=True to override this.\n"
     ]
    },
    {
     "data": {
      "image/png": "[encoded data removed]",
      "text/plain": [
       "<Figure size 432x288 with 1 Axes>"
      ]
     },
     "metadata": {},
     "output_type": "display_data"
    },
    {
     "data": {
      "image/png": "[encoded data removed]",
      "text/plain": [
       "<Figure size 432x288 with 1 Axes>"
      ]
     },
     "metadata": {},
     "output_type": "display_data"
    },
    {
     "name": "stdout",
     "output_type": "stream",
     "text": [
      "Time:  18.188947916030884\n"
     ]
    },
    {
     "data": {
      "text/plain": [
       "['anomaly_scores/Prophet/ec2_cpu_utilization_ac20cd_no_fill']"
      ]
     },
     "execution_count": 8,
     "metadata": {},
     "output_type": "execute_result"
    }
   ],
   "source": [
    "save_path = \"anomaly_scores/Prophet/\" + dataset_name+ \"_no_fill\"\n",
    "output_dict = ad.facebook_prophet(gaussian_window_size=gaussian_window_size, \n",
    "                                  changepoint_prior_scale=.2,\n",
    "                                  step_size=100,\n",
    "                                  plot_forecast=True,\n",
    "                                  plot_anomaly_score=True)\n",
    "print(\"Time: \", output_dict[\"Time\"])\n",
    "joblib.dump(output_dict, save_path)"
   ]
  },
  {
   "cell_type": "code",
   "execution_count": 9,
   "metadata": {},
   "outputs": [],
   "source": [
    "# no seasonality. cannot use stl"
   ]
  },
  {
   "cell_type": "code",
   "execution_count": null,
   "metadata": {},
   "outputs": [],
   "source": []
  }
 ],
 "metadata": {
  "kernelspec": {
   "display_name": "Python 3",
   "language": "python",
   "name": "python3"
  },
  "language_info": {
   "codemirror_mode": {
    "name": "ipython",
    "version": 3
   },
   "file_extension": ".py",
   "mimetype": "text/x-python",
   "name": "python",
   "nbconvert_exporter": "python",
   "pygments_lexer": "ipython3",
   "version": "3.6.7"
  }
 },
 "nbformat": 4,
 "nbformat_minor": 2
}
