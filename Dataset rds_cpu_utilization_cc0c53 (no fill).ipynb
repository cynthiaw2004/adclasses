{
 "cells": [
  {
   "cell_type": "code",
   "execution_count": 1,
   "metadata": {
    "collapsed": true
   },
   "outputs": [],
   "source": [
    "dataset_name = \"rds_cpu_utilization_cc0c53\"\n",
    "path = \"data/\" + dataset_name + \".csv\"\n",
    "gaussian_window_size = 1024"
   ]
  },
  {
   "cell_type": "code",
   "execution_count": 2,
   "metadata": {},
   "outputs": [
    {
     "name": "stderr",
     "output_type": "stream",
     "text": [
      "Using TensorFlow backend.\n",
      "/home/cfreeman/Documents/NextIT/adclasses2/adclasses2_venv/lib/python3.5/site-packages/tensorflow/python/framework/ops.py:939: DeprecationWarning: builtin type EagerTensor has no __module__ attribute\n",
      "  EagerTensor = c_api.TFE_Py_InitEagerTensor(_EagerTensorBase)\n",
      "/home/cfreeman/Documents/NextIT/adclasses2/adclasses2_venv/lib/python3.5/site-packages/tensorflow/python/util/tf_inspect.py:55: DeprecationWarning: inspect.getargspec() is deprecated, use inspect.signature() instead\n",
      "  if d.decorator_argspec is not None), _inspect.getargspec(target))\n"
     ]
    }
   ],
   "source": [
    "import adclasses\n",
    "import pandas as pd\n",
    "import matplotlib.pyplot as plt\n",
    "import joblib\n",
    "import numpy as np\n",
    "import warnings\n",
    "warnings.filterwarnings('ignore')"
   ]
  },
  {
   "cell_type": "markdown",
   "metadata": {},
   "source": [
    "# Preprocess Dataset"
   ]
  },
  {
   "cell_type": "code",
   "execution_count": 3,
   "metadata": {},
   "outputs": [
    {
     "name": "stdout",
     "output_type": "stream",
     "text": [
      "Start date:  2014-02-14 14:30:00\n",
      "End date:  2014-02-28 14:30:00\n",
      "Missing time stamps: \n",
      " DatetimeIndex(['2014-02-25 07:10:00'], dtype='datetime64[ns]', freq='5T')\n",
      "WARNING: There are missing time steps. This restricts the kinds of anomaly detection methods that can be used. See fill_missing_time_steps\n",
      "Length:  4033\n",
      "Time step size:  5min\n",
      "Date Format:  %Y-%m-%d %H:%M:%S\n",
      "True outlier indices:  [3081, 3580]\n"
     ]
    }
   ],
   "source": [
    "data = pd.read_csv(path, header=0)\n",
    "start_date = data[\"timestamp\"].values[0]\n",
    "end_date = data[\"timestamp\"].values[-1]\n",
    "print(\"Start date: \", start_date)\n",
    "print(\"End date: \", end_date)\n",
    "data[\"timestamp\"] = pd.to_datetime(data[\"timestamp\"], format=\"%Y-%m-%d %H:%M:%S\")\n",
    "\n",
    "print(\"Missing time stamps: \\n\", adclasses.find_missing_time_steps(start_date, end_date, '5min', data))\n",
    "\n",
    "data[\"timestamp\"] = pd.to_datetime(data[\"timestamp\"], format=\"%Y-%m-%d %H:%M:%S\")\n",
    "ad = adclasses.UnivariateAnomalyDetection(dataframe=data, timestep=\"5min\", dateformat=\"%Y-%m-%d %H:%M:%S\", name=dataset_name)\n",
    "print(\"Length: \", ad.get_length())\n",
    "print(\"Time step size: \", ad.get_timestep())\n",
    "print(\"Date Format: \", ad.get_dateformat())\n",
    "true_outlier_dates = [\"2014-02-25 07:15:00\",\n",
    "                      \"2014-02-27 00:50:00\"]\n",
    "true_outlier_indices = ad.convert_true_outlier_date(true_outlier_dates)\n",
    "print(\"True outlier indices: \", true_outlier_indices)"
   ]
  },
  {
   "cell_type": "markdown",
   "metadata": {},
   "source": [
    "# Donut"
   ]
  },
  {
   "cell_type": "code",
   "execution_count": 4,
   "metadata": {},
   "outputs": [
    {
     "name": "stdout",
     "output_type": "stream",
     "text": [
      "Trainable Parameters              (58,150 in total)\n",
      "---------------------------------------------------\n",
      "donut/p_x_given_z/x_mean/bias    (120,)         120\n",
      "donut/p_x_given_z/x_mean/kernel  (100, 120)  12,000\n",
      "donut/p_x_given_z/x_std/bias     (120,)         120\n",
      "donut/p_x_given_z/x_std/kernel   (100, 120)  12,000\n",
      "donut/q_z_given_x/z_mean/bias    (5,)             5\n",
      "donut/q_z_given_x/z_mean/kernel  (100, 5)       500\n",
      "donut/q_z_given_x/z_std/bias     (5,)             5\n",
      "donut/q_z_given_x/z_std/kernel   (100, 5)       500\n",
      "sequential/_0/dense/bias         (100,)         100\n",
      "sequential/_0/dense/kernel       (5, 100)       500\n",
      "sequential/_1/dense/bias         (100,)         100\n",
      "sequential/_1/dense/kernel       (100, 100)  10,000\n",
      "sequential_1/_0/dense/bias       (100,)         100\n",
      "sequential_1/_0/dense/kernel     (120, 100)  12,000\n",
      "sequential_1/_1/dense/bias       (100,)         100\n",
      "sequential_1/_1/dense/kernel     (100, 100)  10,000\n",
      "\n",
      "[Epoch 10/256, Step 10, ETA 19.09s] Learning rate decreased to 0.00075\n",
      "[Epoch 20/256, Step 20, ETA 10.75s] Learning rate decreased to 0.0005625000000000001\n",
      "[Epoch 30/256, Step 30, ETA 7.95s] Learning rate decreased to 0.00042187500000000005\n",
      "[Epoch 40/256, Step 40, ETA 6.532s] Learning rate decreased to 0.00031640625000000006\n",
      "[Epoch 50/256, Step 50, ETA 5.628s] Learning rate decreased to 0.00023730468750000005\n",
      "[Epoch 60/256, Step 60, ETA 5.194s] Learning rate decreased to 0.00017797851562500002\n",
      "[Epoch 70/256, Step 70, ETA 4.716s] Learning rate decreased to 0.00013348388671875002\n",
      "[Epoch 80/256, Step 80, ETA 4.333s] Learning rate decreased to 0.00010011291503906251\n",
      "[Epoch 90/256, Step 90, ETA 3.961s] Learning rate decreased to 7.508468627929689e-05\n",
      "[Epoch 100/256, Step 100, ETA 4.332s] step time: 0.02608s (±0.07676s); valid time: 0.4199s; loss: 171.445 (±7.44123); valid loss: 179.89 (*)\n",
      "[Epoch 100/256, Step 100, ETA 4.332s] Learning rate decreased to 5.631351470947266e-05\n",
      "[Epoch 110/256, Step 110, ETA 3.946s] Learning rate decreased to 4.22351360321045e-05\n",
      "[Epoch 120/256, Step 120, ETA 3.577s] Learning rate decreased to 3.167635202407837e-05\n",
      "[Epoch 130/256, Step 130, ETA 3.271s] Learning rate decreased to 2.3757264018058778e-05\n",
      "[Epoch 140/256, Step 140, ETA 2.943s] Learning rate decreased to 1.7817948013544083e-05\n",
      "[Epoch 150/256, Step 150, ETA 2.638s] Learning rate decreased to 1.3363461010158061e-05\n",
      "[Epoch 160/256, Step 160, ETA 2.36s] Learning rate decreased to 1.0022595757618546e-05\n",
      "[Epoch 170/256, Step 170, ETA 2.102s] Learning rate decreased to 7.51694681821391e-06\n",
      "[Epoch 180/256, Step 180, ETA 1.839s] Learning rate decreased to 5.637710113660432e-06\n",
      "[Epoch 190/256, Step 190, ETA 1.579s] Learning rate decreased to 4.228282585245324e-06\n",
      "[Epoch 200/256, Step 200, ETA 1.372s] step time: 0.01943s (±0.01885s); valid time: 0.1834s; loss: 166.589 (±0.696264); valid loss: 179.769 (*)\n",
      "[Epoch 200/256, Step 200, ETA 1.373s] Learning rate decreased to 3.171211938933993e-06\n",
      "[Epoch 210/256, Step 210, ETA 1.121s] Learning rate decreased to 2.3784089542004944e-06\n",
      "[Epoch 220/256, Step 220, ETA 0.8758s] Learning rate decreased to 1.7838067156503708e-06\n",
      "[Epoch 230/256, Step 230, ETA 0.6304s] Learning rate decreased to 1.337855036737778e-06\n",
      "[Epoch 240/256, Step 240, ETA 0.3825s] Learning rate decreased to 1.0033912775533336e-06\n"
     ]
    },
    {
     "name": "stderr",
     "output_type": "stream",
     "text": [
      "INFO:tensorflow:Restoring parameters from /tmp/tmplo2gw6q3/variables.dat-200\n"
     ]
    },
    {
     "name": "stdout",
     "output_type": "stream",
     "text": [
      "[Epoch 250/256, Step 250, ETA 0.1408s] Learning rate decreased to 7.525434581650002e-07\n"
     ]
    },
    {
     "data": {
      "image/png": "[encoded data removed]",
      "text/plain": [
       "<Figure size 432x288 with 1 Axes>"
      ]
     },
     "metadata": {},
     "output_type": "display_data"
    },
    {
     "data": {
      "image/png": "[encoded data removed]",
      "text/plain": [
       "<Figure size 432x288 with 1 Axes>"
      ]
     },
     "metadata": {},
     "output_type": "display_data"
    },
    {
     "name": "stdout",
     "output_type": "stream",
     "text": [
      "Time:  41.16839790344238\n"
     ]
    },
    {
     "data": {
      "text/plain": [
       "['anomaly_scores/Donut/rds_cpu_utilization_cc0c53_no_fill']"
      ]
     },
     "execution_count": 4,
     "metadata": {},
     "output_type": "execute_result"
    }
   ],
   "source": [
    "save_path = \"anomaly_scores/Donut/\" + dataset_name + \"_no_fill\"\n",
    "output_dict = ad.donut(gaussian_window_size=gaussian_window_size,plot_reconstruction_prob=True, plot_anomaly_score=True)\n",
    "print(\"Time: \", output_dict[\"Time\"])\n",
    "joblib.dump(output_dict, save_path)"
   ]
  },
  {
   "cell_type": "markdown",
   "metadata": {},
   "source": [
    "# STL Resid"
   ]
  },
  {
   "cell_type": "code",
   "execution_count": 5,
   "metadata": {
    "collapsed": true
   },
   "outputs": [],
   "source": [
    "# no seasonality so no stl"
   ]
  },
  {
   "cell_type": "code",
   "execution_count": null,
   "metadata": {
    "collapsed": true
   },
   "outputs": [],
   "source": []
  }
 ],
 "metadata": {
  "kernelspec": {
   "display_name": "Python 2",
   "language": "python",
   "name": "python2"
  },
  "language_info": {
   "codemirror_mode": {
    "name": "ipython",
    "version": 2
   },
   "file_extension": ".py",
   "mimetype": "text/x-python",
   "name": "python",
   "nbconvert_exporter": "python",
   "pygments_lexer": "ipython2",
   "version": "2.7.12"
  }
 },
 "nbformat": 4,
 "nbformat_minor": 2
}
