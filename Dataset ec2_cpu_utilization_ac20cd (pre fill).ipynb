{
 "cells": [
  {
   "cell_type": "code",
   "execution_count": 1,
   "metadata": {},
   "outputs": [],
   "source": [
    "dataset_name = \"ec2_cpu_utilization_ac20cd\"\n",
    "path = \"data/\" + dataset_name + \".csv\"\n",
    "gaussian_window_size = 1024"
   ]
  },
  {
   "cell_type": "code",
   "execution_count": 2,
   "metadata": {},
   "outputs": [
    {
     "name": "stderr",
     "output_type": "stream",
     "text": [
      "Using TensorFlow backend.\n"
     ]
    }
   ],
   "source": [
    "import adclasses\n",
    "import pandas as pd\n",
    "import numpy as np\n",
    "import matplotlib.pyplot as plt\n",
    "import joblib\n",
    "import warnings\n",
    "warnings.filterwarnings('ignore')"
   ]
  },
  {
   "cell_type": "markdown",
   "metadata": {},
   "source": [
    "# Preprocess dataset"
   ]
  },
  {
   "cell_type": "code",
   "execution_count": 3,
   "metadata": {},
   "outputs": [
    {
     "name": "stdout",
     "output_type": "stream",
     "text": [
      "Start date:  2014-04-02 14:29:00\n",
      "End date:  2014-04-16 14:49:00\n",
      "Missing time stamps: \n",
      " DatetimeIndex(['2014-04-07 13:39:00', '2014-04-07 13:44:00',\n",
      "               '2014-04-14 23:49:00', '2014-04-14 23:54:00',\n",
      "               '2014-04-14 23:59:00'],\n",
      "              dtype='datetime64[ns]', freq=None)\n",
      "Fill Missing Time Steps with Interpolation\n",
      "Length:  4037\n",
      "Time step size:  5min\n",
      "Start Date:  2014-04-02 14:29:00\n",
      "End Date:  2014-04-16 14:49:00\n",
      "Date Format:  %Y-%m-%d %H:%M:%S\n",
      "True outlier indices:  [3580]\n"
     ]
    }
   ],
   "source": [
    "data = pd.read_csv(path, header=0)\n",
    "start_date = data[\"timestamp\"].values[0]\n",
    "end_date = data[\"timestamp\"].values[-1]\n",
    "print(\"Start date: \", start_date)\n",
    "print(\"End date: \", end_date)\n",
    "\n",
    "data[\"timestamp\"] = pd.to_datetime(data[\"timestamp\"], \n",
    "                                   format=\"%Y-%m-%d %H:%M:%S\")\n",
    "\n",
    "print(\"Missing time stamps: \\n\", adclasses.find_missing_time_steps(start_date, end_date, \n",
    "                                                                   '5min', data))\n",
    "\n",
    "# if you want to use a method that cannot take missing time steps\n",
    "# into account, you need to fill in the missing time steps yourself\n",
    "# this function also removes duplicates\n",
    "print(\"Fill Missing Time Steps with Interpolation\")\n",
    "data = adclasses.fill_missing_time_steps(start_date, end_date, '5min', data, method=\"linear\")\n",
    "\n",
    "# write to csv for htm\n",
    "# data.to_csv(\"/home/cfreeman/Desktop/prefill/\" + dataset_name + \".csv\", index=False)\n",
    "\n",
    "ad = adclasses.UnivariateAnomalyDetection(dataframe=data, \n",
    "                                          timestep=\"5min\", \n",
    "                                          dateformat=\"%Y-%m-%d %H:%M:%S\", \n",
    "                                          name=dataset_name)\n",
    "print(\"Length: \", ad.get_length())\n",
    "print(\"Time step size: \", ad.get_timestep())\n",
    "print(\"Start Date: \", start_date)\n",
    "print(\"End Date: \", end_date)\n",
    "print(\"Date Format: \", ad.get_dateformat())\n",
    "true_outlier_dates = [\"2014-04-15 00:49:00\"]\n",
    "true_outlier_indices = ad.convert_true_outlier_date(true_outlier_dates)\n",
    "print(\"True outlier indices: \", true_outlier_indices)"
   ]
  },
  {
   "cell_type": "markdown",
   "metadata": {},
   "source": [
    "# GLM"
   ]
  },
  {
   "cell_type": "code",
   "execution_count": 4,
   "metadata": {},
   "outputs": [
    {
     "name": "stderr",
     "output_type": "stream",
     "text": [
      "100%|██████████| 4037/4037 [00:00<00:00, 26331.52it/s]"
     ]
    },
    {
     "name": "stdout",
     "output_type": "stream",
     "text": [
      "Initial Mean 30.21449917355372\n",
      "Initial StdDev 17.176365587345547\n"
     ]
    },
    {
     "name": "stderr",
     "output_type": "stream",
     "text": [
      "\n",
      "100%|██████████| 4037/4037 [00:00<00:00, 27106.90it/s]"
     ]
    },
    {
     "name": "stdout",
     "output_type": "stream",
     "text": [
      "eta:  0.5\n",
      "lambda:  0.99\n",
      "MSE:  9.081534612152694e+16\n",
      "Initial Mean 30.21449917355372\n",
      "Initial StdDev 17.176365587345547\n"
     ]
    },
    {
     "name": "stderr",
     "output_type": "stream",
     "text": [
      "\n",
      " 35%|███▌      | 1414/4037 [00:00<00:00, 14134.66it/s]"
     ]
    },
    {
     "name": "stdout",
     "output_type": "stream",
     "text": [
      "eta:  0.5\n",
      "lambda:  0.999\n",
      "MSE:  202.33647558906088\n",
      "Initial Mean 30.21449917355372\n",
      "Initial StdDev 17.176365587345547\n"
     ]
    },
    {
     "name": "stderr",
     "output_type": "stream",
     "text": [
      "100%|██████████| 4037/4037 [00:00<00:00, 20909.96it/s]\n",
      "100%|██████████| 4037/4037 [00:00<00:00, 28366.15it/s]"
     ]
    },
    {
     "name": "stdout",
     "output_type": "stream",
     "text": [
      "eta:  0.5\n",
      "lambda:  0.9999\n",
      "MSE:  381.60992206702116\n",
      "Initial Mean 30.21449917355372\n",
      "Initial StdDev 17.176365587345547\n"
     ]
    },
    {
     "name": "stderr",
     "output_type": "stream",
     "text": [
      "\n",
      "100%|██████████| 4037/4037 [00:00<00:00, 27751.22it/s]"
     ]
    },
    {
     "name": "stdout",
     "output_type": "stream",
     "text": [
      "eta:  1\n",
      "lambda:  0.99\n",
      "MSE:  528.0717979334157\n",
      "Initial Mean 30.21449917355372\n",
      "Initial StdDev 17.176365587345547\n"
     ]
    },
    {
     "name": "stderr",
     "output_type": "stream",
     "text": [
      "\n",
      "100%|██████████| 4037/4037 [00:00<00:00, 26610.77it/s]"
     ]
    },
    {
     "name": "stdout",
     "output_type": "stream",
     "text": [
      "eta:  1\n",
      "lambda:  0.999\n",
      "MSE:  104.14942763537287\n",
      "Initial Mean 30.21449917355372\n",
      "Initial StdDev 17.176365587345547\n"
     ]
    },
    {
     "name": "stderr",
     "output_type": "stream",
     "text": [
      "\n"
     ]
    },
    {
     "name": "stdout",
     "output_type": "stream",
     "text": [
      "eta:  1\n",
      "lambda:  0.9999\n",
      "MSE:  284.8601876702661\n",
      "\n",
      "best params:  eta 1 lambda 0.999\n"
     ]
    }
   ],
   "source": [
    "# optimize\n",
    "etas = [.5,1]\n",
    "lambdas = [.99, .999, .9999]\n",
    "\n",
    "opt_dict = {}\n",
    "\n",
    "for eta in etas:\n",
    "    for lambda_ in lambdas:\n",
    "       \n",
    "        mse = ad.glm(gaussian_window_size=gaussian_window_size, \n",
    "                     family='gaussian', \n",
    "                     eta=eta, \n",
    "                     lambda_=lambda_)[\"MSE\"]\n",
    "\n",
    "        print(\"eta: \", eta)\n",
    "        print(\"lambda: \", lambda_)\n",
    "        print(\"MSE: \",mse)\n",
    "\n",
    "        key_str = \"eta \" + str(eta) + \" lambda \" + str(lambda_)\n",
    "\n",
    "        opt_dict[key_str] = mse\n",
    "\n",
    "best_params = min(opt_dict, key=opt_dict.get)\n",
    "print(\"\\nbest params: \", best_params)"
   ]
  },
  {
   "cell_type": "code",
   "execution_count": 5,
   "metadata": {},
   "outputs": [
    {
     "name": "stderr",
     "output_type": "stream",
     "text": [
      " 48%|████▊     | 1930/4037 [00:00<00:00, 19292.89it/s]"
     ]
    },
    {
     "name": "stdout",
     "output_type": "stream",
     "text": [
      "Initial Mean 30.21449917355372\n",
      "Initial StdDev 17.176365587345547\n"
     ]
    },
    {
     "name": "stderr",
     "output_type": "stream",
     "text": [
      "100%|██████████| 4037/4037 [00:00<00:00, 19105.01it/s]\n"
     ]
    },
    {
     "data": {
      "image/png": "[encoded data removed]",
      "text/plain": [
       "<Figure size 432x288 with 1 Axes>"
      ]
     },
     "metadata": {},
     "output_type": "display_data"
    },
    {
     "name": "stdout",
     "output_type": "stream",
     "text": [
      "Time:  1.0506458282470703\n"
     ]
    },
    {
     "data": {
      "text/plain": [
       "['anomaly_scores/GLM/ec2_cpu_utilization_ac20cd']"
      ]
     },
     "execution_count": 5,
     "metadata": {},
     "output_type": "execute_result"
    },
    {
     "data": {
      "image/png": "[encoded data removed]",
      "text/plain": [
       "<Figure size 432x288 with 1 Axes>"
      ]
     },
     "metadata": {},
     "output_type": "display_data"
    }
   ],
   "source": [
    "save_path = \"anomaly_scores/GLM/\" + dataset_name\n",
    "output_dict = ad.glm(gaussian_window_size=gaussian_window_size, family='gaussian', \n",
    "                     eta=int(best_params[4:6]),\n",
    "                     lambda_=float(best_params[14:]),\n",
    "                     plot_anomaly_scores=True, plot_forecast=True)\n",
    "print(\"Time: \", output_dict[\"Time\"])\n",
    "joblib.dump(output_dict, save_path)"
   ]
  },
  {
   "cell_type": "markdown",
   "metadata": {},
   "source": [
    "# SARIMA: using autoarima"
   ]
  },
  {
   "cell_type": "code",
   "execution_count": 6,
   "metadata": {},
   "outputs": [
    {
     "name": "stdout",
     "output_type": "stream",
     "text": [
      "\n",
      " Fitting models using approximations to speed things up...\n",
      "\n",
      " ARIMA(2,0,2) with non-zero mean : Inf\n",
      " ARIMA(0,0,0) with non-zero mean : 3915.504\n",
      " ARIMA(1,0,0) with non-zero mean : 3358.343\n",
      " ARIMA(0,0,1) with non-zero mean : 3640.096\n",
      " ARIMA(0,0,0) with zero mean     : 3915.067\n",
      " ARIMA(2,0,0) with non-zero mean : 3277.959\n",
      " ARIMA(3,0,0) with non-zero mean : Inf\n",
      " ARIMA(2,0,1) with non-zero mean : 3259.449\n",
      " ARIMA(1,0,1) with non-zero mean : Inf\n",
      " ARIMA(3,0,1) with non-zero mean : Inf\n",
      " ARIMA(1,0,2) with non-zero mean : Inf\n",
      " ARIMA(3,0,2) with non-zero mean : Inf\n",
      " ARIMA(2,0,1) with zero mean     : 3257.36\n",
      " ARIMA(1,0,1) with zero mean     : Inf\n",
      " ARIMA(2,0,0) with zero mean     : 3275.843\n",
      " ARIMA(3,0,1) with zero mean     : Inf\n",
      " ARIMA(2,0,2) with zero mean     : Inf\n",
      " ARIMA(1,0,0) with zero mean     : 3356.171\n",
      " ARIMA(1,0,2) with zero mean     : Inf\n",
      " ARIMA(3,0,0) with zero mean     : Inf\n",
      " ARIMA(3,0,2) with zero mean     : Inf\n",
      "\n",
      " Now re-fitting the best model(s) without approximations...\n",
      "\n",
      " ARIMA(2,0,1) with zero mean     : 3257.962\n",
      "\n",
      " Best model: Regression with ARIMA(2,0,1) errors \n",
      "\n"
     ]
    },
    {
     "data": {
      "image/png": "[encoded data removed]",
      "text/plain": [
       "<Figure size 432x288 with 1 Axes>"
      ]
     },
     "metadata": {},
     "output_type": "display_data"
    },
    {
     "data": {
      "image/png": "[encoded data removed]",
      "text/plain": [
       "<Figure size 432x288 with 1 Axes>"
      ]
     },
     "metadata": {},
     "output_type": "display_data"
    },
    {
     "name": "stdout",
     "output_type": "stream",
     "text": [
      "Time:  15.78708028793335\n"
     ]
    },
    {
     "data": {
      "text/plain": [
       "['anomaly_scores/SARIMA_auto/ec2_cpu_utilization_ac20cd']"
      ]
     },
     "execution_count": 6,
     "metadata": {},
     "output_type": "execute_result"
    }
   ],
   "source": [
    "save_path = \"anomaly_scores/SARIMA_auto/\" + dataset_name\n",
    "output_dict = ad.sarimax(gaussian_window_size=gaussian_window_size, step_size=100, auto=True,\n",
    "                         use_exog=True, plot_anomaly_scores=True,plot_forecast=True)\n",
    "print(\"Time: \", output_dict[\"Time\"])\n",
    "joblib.dump(output_dict, save_path)"
   ]
  },
  {
   "cell_type": "markdown",
   "metadata": {},
   "source": [
    "# Facebook Prophet"
   ]
  },
  {
   "cell_type": "code",
   "execution_count": 7,
   "metadata": {},
   "outputs": [
    {
     "name": "stderr",
     "output_type": "stream",
     "text": [
      "INFO:fbprophet:Disabling yearly seasonality. Run prophet with yearly_seasonality=True to override this.\n",
      "INFO:fbprophet:Disabling yearly seasonality. Run prophet with yearly_seasonality=True to override this.\n"
     ]
    },
    {
     "name": "stdout",
     "output_type": "stream",
     "text": [
      "Step Size:  100\n",
      "Changepoint Prior Scale:  0.01\n",
      "MSE:  469.91644216777934\n"
     ]
    },
    {
     "name": "stderr",
     "output_type": "stream",
     "text": [
      "INFO:fbprophet:Disabling yearly seasonality. Run prophet with yearly_seasonality=True to override this.\n"
     ]
    },
    {
     "name": "stdout",
     "output_type": "stream",
     "text": [
      "Step Size:  100\n",
      "Changepoint Prior Scale:  0.05\n",
      "MSE:  183.37574451161032\n"
     ]
    },
    {
     "name": "stderr",
     "output_type": "stream",
     "text": [
      "INFO:fbprophet:Disabling yearly seasonality. Run prophet with yearly_seasonality=True to override this.\n"
     ]
    },
    {
     "name": "stdout",
     "output_type": "stream",
     "text": [
      "Step Size:  100\n",
      "Changepoint Prior Scale:  0.1\n",
      "MSE:  80.87063888347045\n"
     ]
    },
    {
     "name": "stderr",
     "output_type": "stream",
     "text": [
      "INFO:fbprophet:Disabling yearly seasonality. Run prophet with yearly_seasonality=True to override this.\n"
     ]
    },
    {
     "name": "stdout",
     "output_type": "stream",
     "text": [
      "Step Size:  100\n",
      "Changepoint Prior Scale:  0.15\n",
      "MSE:  69.14303380273962\n"
     ]
    },
    {
     "name": "stderr",
     "output_type": "stream",
     "text": [
      "INFO:fbprophet:Disabling yearly seasonality. Run prophet with yearly_seasonality=True to override this.\n"
     ]
    },
    {
     "name": "stdout",
     "output_type": "stream",
     "text": [
      "Step Size:  100\n",
      "Changepoint Prior Scale:  0.2\n",
      "MSE:  68.6789699044113\n"
     ]
    },
    {
     "name": "stderr",
     "output_type": "stream",
     "text": [
      "INFO:fbprophet:Disabling yearly seasonality. Run prophet with yearly_seasonality=True to override this.\n"
     ]
    },
    {
     "name": "stdout",
     "output_type": "stream",
     "text": [
      "Step Size:  200\n",
      "Changepoint Prior Scale:  0.01\n",
      "MSE:  469.91644216777934\n"
     ]
    },
    {
     "name": "stderr",
     "output_type": "stream",
     "text": [
      "INFO:fbprophet:Disabling yearly seasonality. Run prophet with yearly_seasonality=True to override this.\n"
     ]
    },
    {
     "name": "stdout",
     "output_type": "stream",
     "text": [
      "Step Size:  200\n",
      "Changepoint Prior Scale:  0.05\n",
      "MSE:  183.37574451161032\n"
     ]
    },
    {
     "name": "stderr",
     "output_type": "stream",
     "text": [
      "INFO:fbprophet:Disabling yearly seasonality. Run prophet with yearly_seasonality=True to override this.\n"
     ]
    },
    {
     "name": "stdout",
     "output_type": "stream",
     "text": [
      "Step Size:  200\n",
      "Changepoint Prior Scale:  0.1\n",
      "MSE:  80.87063888347045\n"
     ]
    },
    {
     "name": "stderr",
     "output_type": "stream",
     "text": [
      "INFO:fbprophet:Disabling yearly seasonality. Run prophet with yearly_seasonality=True to override this.\n"
     ]
    },
    {
     "name": "stdout",
     "output_type": "stream",
     "text": [
      "Step Size:  200\n",
      "Changepoint Prior Scale:  0.15\n",
      "MSE:  69.14303380273962\n",
      "Step Size:  200\n",
      "Changepoint Prior Scale:  0.2\n",
      "MSE:  68.6789699044113\n",
      "\n",
      "best params:  Step Size 100 Changepoint Prior Scale0.2\n"
     ]
    }
   ],
   "source": [
    "# optimization step\n",
    "\n",
    "step_sizes = [100, 200]\n",
    "changepoint_prior_scales = [.01, .05, .1, .15, .2]\n",
    "opt_dict = {}\n",
    "\n",
    "for step_size in step_sizes:\n",
    "    for changepoint_prior_scale in changepoint_prior_scales:\n",
    "\n",
    "        mse = ad.facebook_prophet(gaussian_window_size=gaussian_window_size, \n",
    "                                  changepoint_prior_scale=changepoint_prior_scale,\n",
    "                                  step_size=step_size,\n",
    "                                  optimize=True)\n",
    "        print(\"Step Size: \", step_size)\n",
    "        print(\"Changepoint Prior Scale: \", changepoint_prior_scale)\n",
    "        print(\"MSE: \",mse)\n",
    "\n",
    "        key_str = \"Step Size \" + str(step_size) +\" Changepoint Prior Scale\" + str(changepoint_prior_scale)\n",
    "\n",
    "        opt_dict[key_str] = mse\n",
    "\n",
    "best_params = min(opt_dict, key=opt_dict.get)\n",
    "print(\"\\nbest params: \", best_params)"
   ]
  },
  {
   "cell_type": "code",
   "execution_count": 8,
   "metadata": {},
   "outputs": [
    {
     "name": "stderr",
     "output_type": "stream",
     "text": [
      "INFO:fbprophet:Disabling yearly seasonality. Run prophet with yearly_seasonality=True to override this.\n",
      "INFO:fbprophet:Disabling weekly seasonality. Run prophet with weekly_seasonality=True to override this.\n"
     ]
    },
    {
     "data": {
      "image/png": "[encoded data removed]",
      "text/plain": [
       "<Figure size 432x288 with 1 Axes>"
      ]
     },
     "metadata": {},
     "output_type": "display_data"
    },
    {
     "data": {
      "image/png": "[encoded data removed]",
      "text/plain": [
       "<Figure size 432x288 with 1 Axes>"
      ]
     },
     "metadata": {},
     "output_type": "display_data"
    },
    {
     "name": "stdout",
     "output_type": "stream",
     "text": [
      "Time:  20.654877185821533\n"
     ]
    },
    {
     "data": {
      "text/plain": [
       "['anomaly_scores/Prophet/ec2_cpu_utilization_ac20cd']"
      ]
     },
     "execution_count": 8,
     "metadata": {},
     "output_type": "execute_result"
    }
   ],
   "source": [
    "save_path = \"anomaly_scores/Prophet/\" + dataset_name\n",
    "output_dict = ad.facebook_prophet(gaussian_window_size=gaussian_window_size, \n",
    "                                  changepoint_prior_scale=.2,\n",
    "                                  step_size=100,\n",
    "                                  plot_forecast=True,\n",
    "                                  plot_anomaly_score=True)\n",
    "print(\"Time: \", output_dict[\"Time\"])\n",
    "joblib.dump(output_dict, save_path)"
   ]
  },
  {
   "cell_type": "markdown",
   "metadata": {},
   "source": [
    "# HTM"
   ]
  },
  {
   "cell_type": "code",
   "execution_count": 9,
   "metadata": {},
   "outputs": [
    {
     "data": {
      "image/png": "[encoded data removed]",
      "text/plain": [
       "<Figure size 432x288 with 1 Axes>"
      ]
     },
     "metadata": {},
     "output_type": "display_data"
    },
    {
     "name": "stdout",
     "output_type": "stream",
     "text": [
      "Time:  27.19\n"
     ]
    },
    {
     "data": {
      "text/plain": [
       "['anomaly_scores/HTM/ec2_cpu_utilization_ac20cd']"
      ]
     },
     "execution_count": 9,
     "metadata": {},
     "output_type": "execute_result"
    }
   ],
   "source": [
    "htm_results_path = \"htm_studio_results/\" + \"htm_results_\" + dataset_name + \"_value.csv\"\n",
    "htm_results = pd.read_csv(htm_results_path, header=0)\n",
    "\n",
    "plt.plot(htm_results[\"raw_anomaly_score\"], color=\"black\", label=\"anomaly score\")\n",
    "plt.legend()\n",
    "plt.xticks(rotation=90)\n",
    "plt.show()\n",
    "\n",
    "anomaly_scores = np.nan_to_num(htm_results[\"raw_anomaly_score\"].values)\n",
    "\n",
    "save_path = \"anomaly_scores/HTM/\" + dataset_name\n",
    "print(\"Time: \", \"27.19\")\n",
    "output_dict = {\"Anomaly Scores\": anomaly_scores, \"Time\": \"27.19\"}\n",
    "joblib.dump(output_dict, save_path)"
   ]
  },
  {
   "cell_type": "markdown",
   "metadata": {},
   "source": [
    "# windowed gaussian"
   ]
  },
  {
   "cell_type": "code",
   "execution_count": 10,
   "metadata": {},
   "outputs": [
    {
     "name": "stdout",
     "output_type": "stream",
     "text": [
      "Step size:  100\n",
      "MSE:  298.1758969744081\n",
      "Step size:  200\n",
      "MSE:  298.1758969744081\n",
      "Step size:  300\n",
      "MSE:  298.1758969744081\n",
      "Step size:  400\n",
      "MSE:  298.1758969744081\n",
      "Step size:  500\n",
      "MSE:  298.1758969744081\n",
      "\n",
      "best step size:  100\n"
     ]
    }
   ],
   "source": [
    "# optimization step\n",
    "step_sizes = [100, 200, 300, 400, 500]\n",
    "\n",
    "opt_dict = {}\n",
    "\n",
    "for step_size in step_sizes:\n",
    "    print(\"Step size: \", step_size)\n",
    "    output_dict = ad.windowed_gaussian(gaussian_window_size=gaussian_window_size, \n",
    "                                       step_size = step_size, \n",
    "                                       optimize=True,\n",
    "                                       plot_anomaly_score=False)\n",
    "    print(\"MSE: \", output_dict[\"MSE\"])\n",
    "    opt_dict[step_size] = output_dict[\"MSE\"]\n",
    "\n",
    "best_step_size = min(opt_dict, key=opt_dict.get)\n",
    "print(\"\\nbest step size: \", best_step_size)"
   ]
  },
  {
   "cell_type": "code",
   "execution_count": 11,
   "metadata": {},
   "outputs": [
    {
     "data": {
      "image/png": "[encoded data removed]",
      "text/plain": [
       "<Figure size 432x288 with 1 Axes>"
      ]
     },
     "metadata": {},
     "output_type": "display_data"
    },
    {
     "name": "stdout",
     "output_type": "stream",
     "text": [
      "Time:  0.1595172882080078\n"
     ]
    },
    {
     "data": {
      "text/plain": [
       "['anomaly_scores/windowed_gaussian/ec2_cpu_utilization_ac20cd']"
      ]
     },
     "execution_count": 11,
     "metadata": {},
     "output_type": "execute_result"
    }
   ],
   "source": [
    "save_path = \"anomaly_scores/windowed_gaussian/\" + dataset_name\n",
    "\n",
    "output_dict = ad.windowed_gaussian(gaussian_window_size=gaussian_window_size, \n",
    "                                   step_size = best_step_size, \n",
    "                                   plot_anomaly_score=True)\n",
    "\n",
    "print(\"Time: \", output_dict[\"Time\"])\n",
    "joblib.dump(output_dict, save_path)"
   ]
  },
  {
   "cell_type": "markdown",
   "metadata": {},
   "source": [
    "# HOTSAX"
   ]
  },
  {
   "cell_type": "code",
   "execution_count": 12,
   "metadata": {},
   "outputs": [],
   "source": [
    "# only need one window size\n",
    "\n",
    "# save_path = \"anomaly_scores/hotsax/\" + dataset_name\n",
    "# output_dict = ad.hotsax(win_size=50, num_discords=int((.2/100) * ad.get_length()),\n",
    "#                a_size=3, paa_size=3, z_threshold=0.01,\n",
    "#                plot_anomaly_score=True)\n",
    "# print(\"Time: \", output_dict[\"Time\"])\n",
    "# joblib.dump(output_dict, save_path)"
   ]
  },
  {
   "cell_type": "code",
   "execution_count": 13,
   "metadata": {},
   "outputs": [],
   "source": [
    "# no twitter bc no seasonality\n",
    "# no stl bc no seasonality\n",
    "# no anomalous bc no seasonality"
   ]
  }
 ],
 "metadata": {
  "kernelspec": {
   "display_name": "Python 3",
   "language": "python",
   "name": "python3"
  },
  "language_info": {
   "codemirror_mode": {
    "name": "ipython",
    "version": 3
   },
   "file_extension": ".py",
   "mimetype": "text/x-python",
   "name": "python",
   "nbconvert_exporter": "python",
   "pygments_lexer": "ipython3",
   "version": "3.6.7"
  }
 },
 "nbformat": 4,
 "nbformat_minor": 2
}
